{
  "nbformat": 4,
  "nbformat_minor": 0,
  "metadata": {
    "colab": {
      "name": "ML_labsheet2@19MCB1001.ipynb",
      "provenance": [],
      "collapsed_sections": []
    },
    "kernelspec": {
      "name": "python3",
      "display_name": "Python 3"
    }
  },
  "cells": [
    {
      "cell_type": "code",
      "metadata": {
        "id": "DgWAqhgZQcKg",
        "colab_type": "code",
        "colab": {}
      },
      "source": [
        "%matplotlib inline\n",
        "import pandas as pd\n",
        "import numpy as np\n",
        "import matplotlib.pyplot as plt\n",
        "import seaborn as sns\n",
        "import matplotlib\n",
        "from sklearn.model_selection import train_test_split\n",
        "from sklearn.tree import DecisionTreeClassifier\n",
        "import sklearn.datasets"
      ],
      "execution_count": 0,
      "outputs": []
    },
    {
      "cell_type": "code",
      "metadata": {
        "id": "lJNsa-C6b6V8",
        "colab_type": "code",
        "outputId": "6cbd9d14-a17e-432b-ae14-35085b9ed65f",
        "colab": {
          "base_uri": "https://localhost:8080/",
          "height": 54
        }
      },
      "source": [
        "from sklearn.datasets import load_iris\n",
        "iris_data=load_iris()\n",
        "print(iris_data.feature_names)\n",
        "print(iris_data.target_names)"
      ],
      "execution_count": 3,
      "outputs": [
        {
          "output_type": "stream",
          "text": [
            "['sepal length (cm)', 'sepal width (cm)', 'petal length (cm)', 'petal width (cm)']\n",
            "['setosa' 'versicolor' 'virginica']\n"
          ],
          "name": "stdout"
        }
      ]
    },
    {
      "cell_type": "code",
      "metadata": {
        "id": "NCp9KoKekWnw",
        "colab_type": "code",
        "outputId": "a606fab8-5a04-43f8-86f9-c7d6067abfc5",
        "colab": {
          "base_uri": "https://localhost:8080/",
          "height": 407
        }
      },
      "source": [
        "data=pd.DataFrame(iris_data.data,columns=iris_data.feature_names)\n",
        "data"
      ],
      "execution_count": 4,
      "outputs": [
        {
          "output_type": "execute_result",
          "data": {
            "text/html": [
              "<div>\n",
              "<style scoped>\n",
              "    .dataframe tbody tr th:only-of-type {\n",
              "        vertical-align: middle;\n",
              "    }\n",
              "\n",
              "    .dataframe tbody tr th {\n",
              "        vertical-align: top;\n",
              "    }\n",
              "\n",
              "    .dataframe thead th {\n",
              "        text-align: right;\n",
              "    }\n",
              "</style>\n",
              "<table border=\"1\" class=\"dataframe\">\n",
              "  <thead>\n",
              "    <tr style=\"text-align: right;\">\n",
              "      <th></th>\n",
              "      <th>sepal length (cm)</th>\n",
              "      <th>sepal width (cm)</th>\n",
              "      <th>petal length (cm)</th>\n",
              "      <th>petal width (cm)</th>\n",
              "    </tr>\n",
              "  </thead>\n",
              "  <tbody>\n",
              "    <tr>\n",
              "      <th>0</th>\n",
              "      <td>5.1</td>\n",
              "      <td>3.5</td>\n",
              "      <td>1.4</td>\n",
              "      <td>0.2</td>\n",
              "    </tr>\n",
              "    <tr>\n",
              "      <th>1</th>\n",
              "      <td>4.9</td>\n",
              "      <td>3.0</td>\n",
              "      <td>1.4</td>\n",
              "      <td>0.2</td>\n",
              "    </tr>\n",
              "    <tr>\n",
              "      <th>2</th>\n",
              "      <td>4.7</td>\n",
              "      <td>3.2</td>\n",
              "      <td>1.3</td>\n",
              "      <td>0.2</td>\n",
              "    </tr>\n",
              "    <tr>\n",
              "      <th>3</th>\n",
              "      <td>4.6</td>\n",
              "      <td>3.1</td>\n",
              "      <td>1.5</td>\n",
              "      <td>0.2</td>\n",
              "    </tr>\n",
              "    <tr>\n",
              "      <th>4</th>\n",
              "      <td>5.0</td>\n",
              "      <td>3.6</td>\n",
              "      <td>1.4</td>\n",
              "      <td>0.2</td>\n",
              "    </tr>\n",
              "    <tr>\n",
              "      <th>...</th>\n",
              "      <td>...</td>\n",
              "      <td>...</td>\n",
              "      <td>...</td>\n",
              "      <td>...</td>\n",
              "    </tr>\n",
              "    <tr>\n",
              "      <th>145</th>\n",
              "      <td>6.7</td>\n",
              "      <td>3.0</td>\n",
              "      <td>5.2</td>\n",
              "      <td>2.3</td>\n",
              "    </tr>\n",
              "    <tr>\n",
              "      <th>146</th>\n",
              "      <td>6.3</td>\n",
              "      <td>2.5</td>\n",
              "      <td>5.0</td>\n",
              "      <td>1.9</td>\n",
              "    </tr>\n",
              "    <tr>\n",
              "      <th>147</th>\n",
              "      <td>6.5</td>\n",
              "      <td>3.0</td>\n",
              "      <td>5.2</td>\n",
              "      <td>2.0</td>\n",
              "    </tr>\n",
              "    <tr>\n",
              "      <th>148</th>\n",
              "      <td>6.2</td>\n",
              "      <td>3.4</td>\n",
              "      <td>5.4</td>\n",
              "      <td>2.3</td>\n",
              "    </tr>\n",
              "    <tr>\n",
              "      <th>149</th>\n",
              "      <td>5.9</td>\n",
              "      <td>3.0</td>\n",
              "      <td>5.1</td>\n",
              "      <td>1.8</td>\n",
              "    </tr>\n",
              "  </tbody>\n",
              "</table>\n",
              "<p>150 rows × 4 columns</p>\n",
              "</div>"
            ],
            "text/plain": [
              "     sepal length (cm)  sepal width (cm)  petal length (cm)  petal width (cm)\n",
              "0                  5.1               3.5                1.4               0.2\n",
              "1                  4.9               3.0                1.4               0.2\n",
              "2                  4.7               3.2                1.3               0.2\n",
              "3                  4.6               3.1                1.5               0.2\n",
              "4                  5.0               3.6                1.4               0.2\n",
              "..                 ...               ...                ...               ...\n",
              "145                6.7               3.0                5.2               2.3\n",
              "146                6.3               2.5                5.0               1.9\n",
              "147                6.5               3.0                5.2               2.0\n",
              "148                6.2               3.4                5.4               2.3\n",
              "149                5.9               3.0                5.1               1.8\n",
              "\n",
              "[150 rows x 4 columns]"
            ]
          },
          "metadata": {
            "tags": []
          },
          "execution_count": 4
        }
      ]
    },
    {
      "cell_type": "code",
      "metadata": {
        "id": "YBdQT7gLi9Ye",
        "colab_type": "code",
        "colab": {}
      },
      "source": [
        "data['class']=iris_data.target"
      ],
      "execution_count": 0,
      "outputs": []
    },
    {
      "cell_type": "markdown",
      "metadata": {
        "id": "Stt_BvFdeaPZ",
        "colab_type": "text"
      },
      "source": [
        " 1.data['class']=iris_data.target Use ID3 Algorithm to build a decision tree for a data set of your choice. Compute the depth of the tree. Using that Decision tree, compute the `class' of a given input. For computing the 'class' of a given input, you are not supposed to use any library function."
      ]
    },
    {
      "cell_type": "markdown",
      "metadata": {
        "id": "phn6yc4WehdU",
        "colab_type": "text"
      },
      "source": [
        "\n",
        "2.Build a Decision tree for a data set where all the input attributes are con- tinuous and the output attribute is categorical."
      ]
    },
    {
      "cell_type": "code",
      "metadata": {
        "id": "r4N7QSV8DZeH",
        "colab_type": "code",
        "colab": {}
      },
      "source": [
        "def entropy(attr):\n",
        "    elements,counts = np.unique(attr,return_counts = True)\n",
        "    entropy = np.sum([(counts[i]/np.sum(counts))*np.log2(counts[i]/np.sum(counts)) for i in range(len(elements))])\n",
        "    return entropy*(-1)"
      ],
      "execution_count": 0,
      "outputs": []
    },
    {
      "cell_type": "code",
      "metadata": {
        "id": "tFWNR0hBPdpq",
        "colab_type": "code",
        "colab": {}
      },
      "source": [
        "def InformationGain(data,attribute_name,target_name=\"class\"):\n",
        "    total_entropy = entropy(data[target_name])\n",
        "    vals,counts= np.unique(data[attribute_name],return_counts=True)\n",
        "    Weighted_Entropy = np.sum([(counts[i]/np.sum(counts))*entropy(data.where(data[attribute_name]==vals[i]).dropna()[target_name]) for i in range(len(vals))])\n",
        "\n",
        "    Information_Gain = total_entropy - Weighted_Entropy\n",
        "    return Information_Gain"
      ],
      "execution_count": 0,
      "outputs": []
    },
    {
      "cell_type": "code",
      "metadata": {
        "id": "b8bo9NanPhjf",
        "colab_type": "code",
        "colab": {}
      },
      "source": [
        "def ID3(data,raw_data,features,target_attribute=\"class\",parent_node = None):\n",
        "    \n",
        "    if len(data)==0:\n",
        "        most_common_target_value = np.unique(raw_data[target_attribute])[np.argmax(np.unique(raw_data[target_attribute],return_counts=True)[1])]\n",
        "        return most_common_target_value\n",
        "\n",
        "    elif len(np.unique(data[target_attribute])) <= 1:        \n",
        "        return np.unique(data[target_attribute])[0]\n",
        "\n",
        "    elif len(features) ==0:        \n",
        "        most_common_target_value = np.unique(data[target_attribute])[np.argmax(np.unique(data[target_attribute],return_counts=True)[1])]\n",
        "        return most_common_target_value\n",
        "    \n",
        "    else:        \n",
        "        item_values = [InformationGain(data,feature,target_attribute) for feature in features] \n",
        "        best_feature_index = np.argmax(item_values)\n",
        "        best_feature = features[best_feature_index]\n",
        "        \n",
        "        # tree --> root = max info gain\n",
        "        tree = {best_feature:{}}\n",
        "        features = [i for i in features if i != best_feature]\n",
        "        # branch under the root for each possible value of the root node feature      \n",
        "        for value in np.unique(data[best_feature]):\n",
        "            #value = value\n",
        "            # split based on largest information gain\n",
        "            sub_data = data.where(data[best_feature] == value).dropna() #data.where: Replace values where the condition is False.\n",
        "            # recursively call ID3\n",
        "            subtree = ID3(sub_data,data,features,target_attribute,parent_node)\n",
        "            # tree --> tree + sub-tree\n",
        "            tree[best_feature][value] = subtree\n",
        "            \n",
        "        return(tree)    "
      ],
      "execution_count": 0,
      "outputs": []
    },
    {
      "cell_type": "code",
      "metadata": {
        "id": "L_EkXUPuhumQ",
        "colab_type": "code",
        "colab": {}
      },
      "source": [
        "training_data, testing_data = train_test_split(data, test_size=0.25,random_state=42)"
      ],
      "execution_count": 0,
      "outputs": []
    },
    {
      "cell_type": "code",
      "metadata": {
        "id": "Rj1QH2gdPsr5",
        "colab_type": "code",
        "outputId": "90a1169c-cec0-4c4e-efdb-e43d0b3a7353",
        "colab": {
          "base_uri": "https://localhost:8080/",
          "height": 963
        }
      },
      "source": [
        "from pprint import pprint\n",
        "tree = ID3(training_data,training_data,list(training_data.columns[:-1]))\n",
        "pprint(tree)"
      ],
      "execution_count": 10,
      "outputs": [
        {
          "output_type": "stream",
          "text": [
            "{'petal length (cm)': {1.1: 0.0,\n",
            "                       1.2: 0.0,\n",
            "                       1.3: 0.0,\n",
            "                       1.4: 0.0,\n",
            "                       1.5: 0.0,\n",
            "                       1.6: 0.0,\n",
            "                       1.7: 0.0,\n",
            "                       1.9: 0.0,\n",
            "                       3.0: 1.0,\n",
            "                       3.3: 1.0,\n",
            "                       3.5: 1.0,\n",
            "                       3.7: 1.0,\n",
            "                       3.8: 1.0,\n",
            "                       3.9: 1.0,\n",
            "                       4.0: 1.0,\n",
            "                       4.1: 1.0,\n",
            "                       4.2: 1.0,\n",
            "                       4.3: 1.0,\n",
            "                       4.4: 1.0,\n",
            "                       4.5: {'sepal length (cm)': {4.9: 2.0,\n",
            "                                                   5.4: 1.0,\n",
            "                                                   5.6: 1.0,\n",
            "                                                   6.0: 1.0}},\n",
            "                       4.6: 1.0,\n",
            "                       4.7: 1.0,\n",
            "                       4.8: {'sepal length (cm)': {5.9: 1.0,\n",
            "                                                   6.0: 2.0,\n",
            "                                                   6.2: 2.0}},\n",
            "                       4.9: {'sepal width (cm)': {2.5: 1.0,\n",
            "                                                  2.7: 2.0,\n",
            "                                                  2.8: 2.0,\n",
            "                                                  3.1: 1.0}},\n",
            "                       5.0: {'sepal length (cm)': {5.7: 2.0,\n",
            "                                                   6.0: 2.0,\n",
            "                                                   6.7: 1.0}},\n",
            "                       5.1: {'sepal length (cm)': {5.8: 2.0,\n",
            "                                                   5.9: 2.0,\n",
            "                                                   6.0: 1.0,\n",
            "                                                   6.3: 2.0}},\n",
            "                       5.2: 2.0,\n",
            "                       5.3: 2.0,\n",
            "                       5.4: 2.0,\n",
            "                       5.5: 2.0,\n",
            "                       5.6: 2.0,\n",
            "                       5.7: 2.0,\n",
            "                       5.8: 2.0,\n",
            "                       5.9: 2.0,\n",
            "                       6.0: 2.0,\n",
            "                       6.1: 2.0,\n",
            "                       6.3: 2.0,\n",
            "                       6.6: 2.0,\n",
            "                       6.7: 2.0}}\n"
          ],
          "name": "stdout"
        }
      ]
    },
    {
      "cell_type": "markdown",
      "metadata": {
        "id": "wVuWY0OLC1yy",
        "colab_type": "text"
      },
      "source": [
        "3. Build a Decision tree based on the pseudocode described in the `Introduc-\n",
        "tion to Machine Learning- Ethen Alpaydin' (page 219 in the III edition).\n",
        "Identify the conceptual difference (if any) between the ID3 Algorithm and\n",
        "the pseudocode described in the book. You are required to execute the ID3\n",
        "Algorithm and the pseudocode (as decsribed in the book) on the same data\n",
        "set and compare the performance."
      ]
    },
    {
      "cell_type": "markdown",
      "metadata": {
        "id": "tX5S2wMOC2Ps",
        "colab_type": "text"
      },
      "source": [
        "4. Implement a regression based learning model by building a decision tree\n",
        "on a data set of your choice and predict the output for a given input. For\n",
        "prediction, you are not supposed to use any library function."
      ]
    },
    {
      "cell_type": "code",
      "metadata": {
        "id": "6qN-nZealQOE",
        "colab_type": "code",
        "colab": {}
      },
      "source": [
        "import sklearn.datasets\n",
        "diabetes = sklearn.datasets.load_diabetes()\n",
        "data_b = pd.DataFrame(diabetes.data,columns=diabetes.feature_names)\n",
        "data_b = pd.get_dummies(data_b,drop_first=True)\n",
        "data_b['output']=diabetes.target\n",
        "data_b = data_b.dropna()\n",
        "data_training,data_testing = train_test_split(data_b,test_size=0.20,random_state=42)"
      ],
      "execution_count": 0,
      "outputs": []
    },
    {
      "cell_type": "code",
      "metadata": {
        "colab_type": "code",
        "id": "ddBT_3WnpxB-",
        "colab": {}
      },
      "source": [
        "def entropy(attr):\n",
        "    elements,counts = np.unique(attr,return_counts = True)\n",
        "    entropy = np.sum([(counts[i]/np.sum(counts))*np.log2(counts[i]/np.sum(counts)) for i in range(len(elements))])\n",
        "    return entropy*(-1)"
      ],
      "execution_count": 0,
      "outputs": []
    },
    {
      "cell_type": "code",
      "metadata": {
        "colab_type": "code",
        "id": "2kqQoVJep0M1",
        "colab": {}
      },
      "source": [
        "def InformationGain(data,attribute_name,target_name=\"output\"):\n",
        "    total_entropy = entropy(data[target_name])\n",
        "    vals,counts= np.unique(data[attribute_name],return_counts=True)\n",
        "    Weighted_Entropy = np.sum([(counts[i]/np.sum(counts))*entropy(data.where(data[attribute_name]==vals[i]).dropna()[target_name]) for i in range(len(vals))])\n",
        "\n",
        "    Information_Gain = total_entropy - Weighted_Entropy\n",
        "    return Information_Gain"
      ],
      "execution_count": 0,
      "outputs": []
    },
    {
      "cell_type": "code",
      "metadata": {
        "colab_type": "code",
        "id": "BNUWq-Rep3U5",
        "colab": {}
      },
      "source": [
        "def ID3(data,raw_data,features,target_attribute=\"output\",parent_node = None):\n",
        "    \n",
        "    if len(data)==0:\n",
        "        most_common_target_value = np.unique(raw_data[target_attribute])[np.argmax(np.unique(raw_data[target_attribute],return_counts=True)[1])]\n",
        "        return most_common_target_value\n",
        "\n",
        "    elif len(np.unique(data[target_attribute])) <= 1:        \n",
        "        return np.unique(data[target_attribute])[0]\n",
        "\n",
        "    elif len(features) ==0:        \n",
        "        most_common_target_value = np.unique(data[target_attribute])[np.argmax(np.unique(data[target_attribute],return_counts=True)[1])]\n",
        "        return most_common_target_value\n",
        "    \n",
        "    else:        \n",
        "        item_values = [InformationGain(data,feature,target_attribute) for feature in features] \n",
        "        best_feature_index = np.argmax(item_values)\n",
        "        best_feature = features[best_feature_index]\n",
        "        \n",
        "        # tree --> root = max info gain\n",
        "        tree = {best_feature:{}}\n",
        "        features = [i for i in features if i != best_feature]\n",
        "        # branch under the root for each possible value of the root node feature      \n",
        "        for value in np.unique(data[best_feature]):\n",
        "            #value = value\n",
        "            # split based on largest information gain\n",
        "            sub_data = data.where(data[best_feature] == value).dropna() #data.where: Replace values where the condition is False.\n",
        "            # recursively call ID3\n",
        "            subtree = ID3(sub_data,data,features,target_attribute,parent_node)\n",
        "            # tree --> tree + sub-tree\n",
        "            tree[best_feature][value] = subtree\n",
        "            \n",
        "        return(tree)    "
      ],
      "execution_count": 0,
      "outputs": []
    },
    {
      "cell_type": "code",
      "metadata": {
        "id": "ys3q_zh5Pp2o",
        "colab_type": "code",
        "colab": {}
      },
      "source": [
        "def predict(query,tree,default = 1):\n",
        "    for key in list(query.keys()):\n",
        "        if key in list(tree.keys()):\n",
        "            try:\n",
        "                result = tree[key][query[key]] \n",
        "            except:\n",
        "                return default\n",
        "            result = tree[key][query[key]]\n",
        "            if isinstance(result,dict):\n",
        "                return predict(query,result)\n",
        "            else:\n",
        "                return result"
      ],
      "execution_count": 0,
      "outputs": []
    },
    {
      "cell_type": "code",
      "metadata": {
        "colab_type": "code",
        "outputId": "4c99dd7f-5053-4068-acfc-a33d92026c62",
        "id": "oXNgMK58p_hQ",
        "colab": {
          "base_uri": "https://localhost:8080/",
          "height": 1000
        }
      },
      "source": [
        "from pprint import pprint\n",
        "tree = ID3(data_training,data_training,list(data_training.columns[:-1]))\n",
        "pprint(tree)"
      ],
      "execution_count": 16,
      "outputs": [
        {
          "output_type": "stream",
          "text": [
            "{'s2': {-0.115613065979398: 40.0,\n",
            "        -0.112794729823292: 152.0,\n",
            "        -0.10089508827529: 281.0,\n",
            "        -0.0971373067338155: 77.0,\n",
            "        -0.0961978613484469: 137.0,\n",
            "        -0.0958847128866574: 283.0,\n",
            "        -0.0946321190394993: 151.0,\n",
            "        -0.0905611890362353: 101.0,\n",
            "        -0.082106180567918: 143.0,\n",
            "        -0.0814798836443389: 114.0,\n",
            "        -0.0811667351825494: 65.0,\n",
            "        -0.0792878444118122: 97.0,\n",
            "        -0.0786615474882331: 61.0,\n",
            "        -0.078035250564654: 64.0,\n",
            "        -0.0761563597939169: 178.0,\n",
            "        -0.0755300628703378: 129.0,\n",
            "        -0.0742774690231797: {'age': {-0.0890629393522603: 185.0,\n",
            "                                      -0.0781653239992017: 142.0}},\n",
            "        -0.072711726714232: {'age': {-0.099960554705319: 55.0,\n",
            "                                     0.0489735217864827: 132.0}},\n",
            "        -0.0717722813288634: 83.0,\n",
            "        -0.0708328359434948: 70.0,\n",
            "        -0.0695802420963367: 71.0,\n",
            "        -0.0686407967109681: 84.0,\n",
            "        -0.068014499787389: 85.0,\n",
            "        -0.0677013513255995: 71.0,\n",
            "        -0.0664487574784414: {'age': {-0.0636351701951234: 101.0,\n",
            "                                      0.0126481372762872: 182.0}},\n",
            "        -0.0636304213223356: 161.0,\n",
            "        -0.0614383820898088: 178.0,\n",
            "        -0.0611252336280193: 219.0,\n",
            "        -0.0601857882426507: 150.0,\n",
            "        -0.0598726397808612: {'age': {-0.0200447087828888: 74.0,\n",
            "                                      0.0671362140415805: 71.0}},\n",
            "        -0.058620045933703: 125.0,\n",
            "        -0.0583068974719135: 198.0,\n",
            "        -0.057993749010124: 170.0,\n",
            "        -0.0576806005483345: 72.0,\n",
            "        -0.0573674520865449: 42.0,\n",
            "        -0.0570543036247554: 168.0,\n",
            "        -0.0558017097775973: 232.0,\n",
            "        -0.0545491159304391: {'age': {0.0199132141783263: 191.0,\n",
            "                                      0.0344433679824045: 273.0}},\n",
            "        -0.0542359674686496: 43.0,\n",
            "        -0.05392281900686: 93.0,\n",
            "        -0.0536096705450705: 59.0,\n",
            "        -0.0529833736214915: 210.0,\n",
            "        -0.0495387405418066: 86.0,\n",
            "        -0.0489124436182275: {'age': {0.0162806757273067: 65.0,\n",
            "                                      0.0235457526293458: 281.0}},\n",
            "        -0.0482861466946485: 182.0,\n",
            "        -0.0476598497710694: 252.0,\n",
            "        -0.0473467013092799: {'age': {0.00538306037424807: 202.0,\n",
            "                                      0.0453409833354632: 245.0}},\n",
            "        -0.0470335528474903: {'age': {-0.0309423241359475: 99.0,\n",
            "                                      0.00175052192322852: 88.0,\n",
            "                                      0.0707687524926: 66.0}},\n",
            "        -0.0464072559239113: 199.0,\n",
            "        -0.0442152166913845: 52.0,\n",
            "        -0.0435889197678055: {'age': {-0.0236772472339084: 85.0,\n",
            "                                      0.030810829531385: 208.0}},\n",
            "        -0.043275771306016: {'age': {-0.0491050163910452: 68.0,\n",
            "                                     -0.0418399394890061: 59.0}},\n",
            "        -0.0429626228442264: {'age': {-0.00914709342983014: 276.0,\n",
            "                                      -0.00551455497881059: 272.0,\n",
            "                                      0.0162806757273067: 200.0}},\n",
            "        -0.0413968805352788: 77.0,\n",
            "        -0.0401442866881206: 104.0,\n",
            "        -0.039204841302752: 303.0,\n",
            "        -0.0388916928409625: 121.0,\n",
            "        -0.0376390989938044: 131.0,\n",
            "        -0.0373259505320149: 155.0,\n",
            "        -0.0370128020702253: {'age': {-0.0563700932930843: 72.0,\n",
            "                                      -0.0527375548420648: 42.0}},\n",
            "        -0.0366996536084358: 45.0,\n",
            "        -0.0363865051466462: 181.0,\n",
            "        -0.0360733566848567: 242.0,\n",
            "        -0.0357602082230672: 25.0,\n",
            "        -0.0354470597612776: 175.0,\n",
            "        -0.0348207628376986: 134.0,\n",
            "        -0.034507614375909: {'sex': {-0.044641636506989: 90.0,\n",
            "                                     0.0506801187398187: 124.0}},\n",
            "        -0.0341944659141195: 141.0,\n",
            "        -0.03388131745233: {'age': {-0.0527375548420648: 142.0,\n",
            "                                    0.0344433679824045: 336.0}},\n",
            "        -0.0332550205287509: 78.0,\n",
            "        -0.0329418720669614: 258.0,\n",
            "        -0.0326287236051719: {'age': {-0.0745327855481821: 116.0,\n",
            "                                      -0.0418399394890061: 259.0}},\n",
            "        -0.0320024266815928: 263.0,\n",
            "        -0.0313761297580137: 39.0,\n",
            "        -0.0301235359108556: {'age': {-0.0600026317441039: 221.0,\n",
            "                                      0.00175052192322852: 65.0}},\n",
            "        -0.0294972389872765: 148.0,\n",
            "        -0.029184090525487: 225.0,\n",
            "        -0.0288709420636975: {'age': {-0.0709002470971626: 162.0,\n",
            "                                      0.00538306037424807: 88.0}},\n",
            "        -0.0285577936019079: 265.0,\n",
            "        -0.0282446451401184: 58.0,\n",
            "        -0.0279314966783289: 293.0,\n",
            "        -0.0273051997547498: 144.0,\n",
            "        -0.0266789028311707: 321.0,\n",
            "        -0.0263657543693812: {'age': {-0.0854304009012408: 49.0,\n",
            "                                      0.0380759064334241: 200.0,\n",
            "                                      0.0671362140415805: 127.0}},\n",
            "        -0.0260526059075917: 265.0,\n",
            "        -0.0257394574458021: {'age': {-0.0709002470971626: 104.0,\n",
            "                                      0.0489735217864827: 103.0}},\n",
            "        -0.0248000120604336: {'age': {-0.103593093156339: 77.0,\n",
            "                                      -0.0454724779400257: 138.0,\n",
            "                                      0.00901559882526763: 44.0}},\n",
            "        -0.024486863598644: 31.0,\n",
            "        -0.0241737151368545: {'age': {0.0380759064334241: 160.0,\n",
            "                                      0.0453409833354632: 246.0}},\n",
            "        -0.0238605666750649: {'age': {-0.0200447087828888: 275.0,\n",
            "                                      -0.00551455497881059: 166.0,\n",
            "                                      0.00175052192322852: 88.0}},\n",
            "        -0.0235474182132754: 63.0,\n",
            "        -0.0232342697514859: {'age': {-0.0745327855481821: 69.0,\n",
            "                                      -0.0382074010379866: 78.0,\n",
            "                                      0.00901559882526763: 277.0}},\n",
            "        -0.0219816759043277: 83.0,\n",
            "        -0.0216685274425382: {'age': {-0.0745327855481821: 60.0,\n",
            "                                      0.0235457526293458: 53.0}},\n",
            "        -0.0213553789807487: 220.0,\n",
            "        -0.0210422305189592: 127.0,\n",
            "        -0.0207290820571696: 48.0,\n",
            "        -0.0204159335953801: 126.0,\n",
            "        -0.019789636671801: 346.0,\n",
            "        -0.0194764882100115: 97.0,\n",
            "        -0.019163339748222: {'age': {-0.00188201652779104: 75.0,\n",
            "                                     0.0526060602375023: 197.0}},\n",
            "        -0.0185370428246429: {'age': {-0.0817978624502212: 51.0,\n",
            "                                      -0.0491050163910452: 200.0}},\n",
            "        -0.0175975974392743: 243.0,\n",
            "        -0.0172844489774848: 201.0,\n",
            "        -0.0166581520539057: 51.0,\n",
            "        -0.0163450035921162: 280.0,\n",
            "        -0.0160318551303266: {'age': {-0.0454724779400257: 111.0,\n",
            "                                      -0.00188201652779104: 152.0,\n",
            "                                      0.0162806757273067: 47.0}},\n",
            "        -0.0157187066685371: 185.0,\n",
            "        -0.0154055582067476: 94.0,\n",
            "        -0.015092409744958: {'age': {-0.0709002470971626: 55.0,\n",
            "                                     0.0235457526293458: 47.0}},\n",
            "        -0.014466112821379: 288.0,\n",
            "        -0.0141529643595894: 144.0,\n",
            "        -0.0138398158977999: {'age': {-0.0273097856849279: 52.0,\n",
            "                                      0.00175052192322852: 92.0,\n",
            "                                      0.00901559882526763: 202.0,\n",
            "                                      0.0417084448844436: 132.0}},\n",
            "        -0.0135266674360104: {'age': {-0.0781653239992017: 90.0,\n",
            "                                      0.0162806757273067: 275.0,\n",
            "                                      0.0453409833354632: 214.0}},\n",
            "        -0.0132135189742209: {'age': {-0.00914709342983014: 53.0,\n",
            "                                      0.0162806757273067: 281.0}},\n",
            "        -0.0129003705124313: {'age': {-0.0527375548420648: 85.0,\n",
            "                                      0.0344433679824045: 341.0}},\n",
            "        -0.0125872220506418: 88.0,\n",
            "        -0.0122740735888523: {'age': {0.030810829531385: 310.0,\n",
            "                                      0.0562385986885218: 150.0}},\n",
            "        -0.0113346282034837: {'age': {-0.0527375548420648: 172.0,\n",
            "                                      0.030810829531385: 270.0}},\n",
            "        -0.0103951828181151: 87.0,\n",
            "        -0.0100820343563255: {'age': {-0.0164121703318693: 123.0,\n",
            "                                      0.0199132141783263: 92.0}},\n",
            "        -0.00976888589453599: {'age': {0.0162806757273067: 179.0,\n",
            "                                       0.0344433679824045: 145.0}},\n",
            "        -0.00788999512379879: 39.0,\n",
            "        -0.00757684666200928: 257.0,\n",
            "        -0.00726369820021974: 277.0,\n",
            "        -0.00663740127664067: 96.0,\n",
            "        -0.005071658967693: {'age': {-0.0527375548420648: 115.0,\n",
            "                                     0.00901559882526763: 292.0}},\n",
            "        -0.00475851050590347: 274.0,\n",
            "        -0.00444536204411395: 248.0,\n",
            "        -0.00413221358232442: 102.0,\n",
            "        -0.00381906512053488: {'age': {-0.0164121703318693: 216.0,\n",
            "                                       -0.00914709342983014: 167.0,\n",
            "                                       0.00175052192322852: 111.0}},\n",
            "        -0.00319276819695581: {'age': {-0.0527375548420648: 109.0,\n",
            "                                       0.0162806757273067: 66.0}},\n",
            "        -0.00287961973516629: 74.0,\n",
            "        -0.00256647127337676: 178.0,\n",
            "        -0.00225332281158722: 275.0,\n",
            "        -0.00162702588800815: 185.0,\n",
            "        -0.00131387742621863: 55.0,\n",
            "        -0.00100072896442909: {'age': {-0.0236772472339084: 147.0,\n",
            "                                       0.00175052192322852: 49.0,\n",
            "                                       0.0453409833354632: 141.0,\n",
            "                                       0.0562385986885218: 72.0}},\n",
            "        -0.000687580502639557: 53.0,\n",
            "        -6.12835790604833e-05: 118.0,\n",
            "        0.000251864882729031: 103.0,\n",
            "        0.000878161806308105: 93.0,\n",
            "        0.00119131026809764: 131.0,\n",
            "        0.00150445872988718: {'age': {0.0271782910803654: 53.0,\n",
            "                                      0.0707687524926: 220.0}},\n",
            "        0.00307020103883484: 79.0,\n",
            "        0.0046359433477825: {'age': {-0.0127796318808497: 64.0,\n",
            "                                     0.0453409833354632: 259.0}},\n",
            "        0.00494909180957202: 262.0,\n",
            "        0.00526224027136155: 206.0,\n",
            "        0.00557538873315109: 131.0,\n",
            "        0.00588853719494063: {'age': {-0.0382074010379866: 107.0,\n",
            "                                      0.0671362140415805: 75.0}},\n",
            "        0.00620168565673016: {'age': {-0.0418399394890061: 142.0,\n",
            "                                      0.0417084448844436: 110.0}},\n",
            "        0.00682798258030921: 60.0,\n",
            "        0.00714113104209875: {'age': {-0.0527375548420648: 113.0,\n",
            "                                      -0.00551455497881059: 195.0,\n",
            "                                      0.0199132141783263: 91.0}},\n",
            "        0.00808057642746734: 160.0,\n",
            "        0.00839372488925688: 97.0,\n",
            "        0.00870687335104641: {'age': {-0.0200447087828888: 113.0,\n",
            "                                      0.00901559882526763: 154.0,\n",
            "                                      0.0889314447476978: 109.0}},\n",
            "        0.0102726156599941: 59.0,\n",
            "        0.0105857641217836: {'sex': {-0.044641636506989: 268.0,\n",
            "                                     0.0506801187398187: 265.0}},\n",
            "        0.0108989125835731: {'sex': {-0.044641636506989: 49.0,\n",
            "                                     0.0506801187398187: 245.0}},\n",
            "        0.0121515064307313: 150.0,\n",
            "        0.0127778033543103: 71.0,\n",
            "        0.0129343775852051: 50.0,\n",
            "        0.0130909518160999: 261.0,\n",
            "        0.0134041002778894: 129.0,\n",
            "        0.0137172487396789: 109.0,\n",
            "        0.0149698425868371: {'age': {-0.0454724779400257: 163.0,\n",
            "                                     -0.00551455497881059: 109.0}},\n",
            "        0.0155961395104161: 135.0,\n",
            "        0.0162224364339952: {'bmi': {-0.0439293767216398: 71.0,\n",
            "                                     -0.0396181284261162: 124.0,\n",
            "                                     -0.0331512559828308: 54.0,\n",
            "                                     -0.00836157828357004: 81.0,\n",
            "                                     -0.00620595413580824: 134.0}},\n",
            "        0.0168487333575743: {'age': {-0.0127796318808497: 96.0,\n",
            "                                     0.0598711371395414: 332.0}},\n",
            "        0.0171618818193638: 85.0,\n",
            "        0.0174750302811533: {'age': {-0.0164121703318693: 308.0,\n",
            "                                     0.0380759064334241: 311.0}},\n",
            "        0.0177881787429428: {'age': {-0.0491050163910452: 182.0,\n",
            "                                     0.0235457526293458: 55.0}},\n",
            "        0.0181013272047324: {'age': {-0.0273097856849279: 257.0,\n",
            "                                     0.0562385986885218: 178.0}},\n",
            "        0.0184144756665219: 225.0,\n",
            "        0.0193539210518905: 189.0,\n",
            "        0.01966706951368: {'age': {-0.0854304009012408: 246.0,\n",
            "                                   0.0598711371395414: 163.0,\n",
            "                                   0.0671362140415805: 102.0}},\n",
            "        0.0202933664372591: 236.0,\n",
            "        0.0206065148990486: 97.0,\n",
            "        0.0212328118226277: 91.0,\n",
            "        0.0215459602844172: {'age': {0.0489735217864827: 310.0,\n",
            "                                     0.063503675590561: 173.0}},\n",
            "        0.0221722572079963: 104.0,\n",
            "        0.0224854056697859: 217.0,\n",
            "        0.0234248510551544: 128.0,\n",
            "        0.0240511479787335: 214.0,\n",
            "        0.0249905933641021: {'age': {-0.0926954778032799: 302.0,\n",
            "                                     -0.0890629393522603: 206.0,\n",
            "                                     0.0744012909436196: 237.0}},\n",
            "        0.0262431872112602: {'age': {-0.00188201652779104: 270.0,\n",
            "                                     0.0671362140415805: 197.0}},\n",
            "        0.0271826325966288: 198.0,\n",
            "        0.0274957810584184: 177.0,\n",
            "        0.0278089295202079: 57.0,\n",
            "        0.0284352264437869: 51.0,\n",
            "        0.0293746718291555: 215.0,\n",
            "        0.0300009687527346: 65.0,\n",
            "        0.0312535625998928: 73.0,\n",
            "        0.0315667110616823: 178.0,\n",
            "        0.0318798595234718: 233.0,\n",
            "        0.0321930079852613: 242.0,\n",
            "        0.0328193049088404: 241.0,\n",
            "        0.0346981956795776: 146.0,\n",
            "        0.0365770864503148: 118.0,\n",
            "        0.0368902349121043: {'age': {0.00901559882526763: 244.0,\n",
            "                                     0.0744012909436196: 296.0}},\n",
            "        0.0372033833738938: 209.0,\n",
            "        0.0375165318356834: {'age': {-0.00188201652779104: 83.0,\n",
            "                                     0.0380759064334241: 81.0}},\n",
            "        0.0378296802974729: 155.0,\n",
            "        0.038455977221052: 196.0,\n",
            "        0.0387691256828415: 262.0,\n",
            "        0.0400217195299996: 179.0,\n",
            "        0.0406480164535787: 144.0,\n",
            "        0.0412743133771578: 151.0,\n",
            "        0.0425269072243159: {'age': {-0.0709002470971626: 200.0,\n",
            "                                     -0.0273097856849279: 279.0}},\n",
            "        0.0434663526096845: 128.0,\n",
            "        0.0444057979950531: {'age': {0.0162806757273067: 128.0,\n",
            "                                     0.0417084448844436: 235.0}},\n",
            "        0.0447189464568426: {'age': {-0.0527375548420648: 59.0,\n",
            "                                     0.00901559882526763: 173.0,\n",
            "                                     0.0199132141783263: 235.0}},\n",
            "        0.0450320949186321: 212.0,\n",
            "        0.0453452433804217: 183.0,\n",
            "        0.0472241341511589: {'age': {-0.00551455497881059: 174.0,\n",
            "                                     0.00901559882526763: 191.0}},\n",
            "        0.048476727998317: {'age': {0.0271782910803654: 122.0,\n",
            "                                    0.063503675590561: 170.0}},\n",
            "        0.0487898764601065: 243.0,\n",
            "        0.0491030249218961: 158.0,\n",
            "        0.0494161733836856: {'age': {-0.0309423241359475: 229.0,\n",
            "                                     0.0707687524926: 144.0}},\n",
            "        0.0506687672308438: 174.0,\n",
            "        0.0509819156926333: 78.0,\n",
            "        0.0528608064633705: {'age': {0.00538306037424807: 91.0,\n",
            "                                     0.0780338293946392: 89.0}},\n",
            "        0.05317395492516: 68.0,\n",
            "        0.0534871033869495: 143.0,\n",
            "        0.0563054395430553: 80.0,\n",
            "        0.0566185880048449: {'age': {-0.00188201652779104: 192.0,\n",
            "                                     0.0271782910803654: 95.0,\n",
            "                                     0.0816663678456587: 150.0}},\n",
            "        0.0572448849284239: {'age': {-0.0273097856849279: 317.0,\n",
            "                                     0.0126481372762872: 259.0}},\n",
            "        0.0575580333902134: 137.0,\n",
            "        0.057871181852003: 139.0,\n",
            "        0.063194705702425: 268.0,\n",
            "        0.0641341510877936: 180.0,\n",
            "        0.0644472995495832: 200.0,\n",
            "        0.0647604480113727: 164.0,\n",
            "        0.0669524872438994: 292.0,\n",
            "        0.0688313780146366: 120.0,\n",
            "        0.0700839718617947: 142.0,\n",
            "        0.0707102687853738: {'age': {0.00538306037424807: 141.0,\n",
            "                                     0.0271782910803654: 67.0,\n",
            "                                     0.0598711371395414: 198.0}},\n",
            "        0.07321545647969: 100.0,\n",
            "        0.0741549018650587: {'age': {0.0126481372762872: 248.0,\n",
            "                                     0.0199132141783263: 190.0}},\n",
            "        0.0754074957122168: 252.0,\n",
            "        0.077912683406533: 249.0,\n",
            "        0.0791652772536912: 104.0,\n",
            "        0.0794784257154807: 115.0,\n",
            "        0.0838625041805342: 116.0,\n",
            "        0.0869939887984295: 69.0,\n",
            "        0.0891860280309562: 138.0,\n",
            "        0.0894991764927457: 306.0,\n",
            "        0.0910649188016934: 196.0,\n",
            "        0.0916912157252725: 283.0,\n",
            "        0.102964560349696: 230.0,\n",
            "        0.108914381123697: 63.0,\n",
            "        0.116429944206646: 253.0,\n",
            "        0.117056241130225: 131.0,\n",
            "        0.127390140369279: 139.0,\n",
            "        0.128016437292858: 258.0,\n",
            "        0.130208476525385: 121.0,\n",
            "        0.131461070372543: 217.0,\n",
            "        0.155886650392127: 220.0,\n",
            "        0.198787989657293: 84.0}}\n"
          ],
          "name": "stdout"
        }
      ]
    },
    {
      "cell_type": "code",
      "metadata": {
        "id": "pXp-aDJ97TXO",
        "colab_type": "code",
        "colab": {}
      },
      "source": [
        "def accuracy_test(data,tree):\n",
        "    queries = data.iloc[:,:-1].to_dict(orient = \"records\")\n",
        "    predicted = pd.DataFrame(columns=[\"predicted\"]) \n",
        "    #print(tree)\n",
        "    for i in range(len(data)):\n",
        "        predicted.loc[i,\"predicted\"] = predict(queries[i],tree,1.0) \n",
        "    predicted = predicted.reset_index(drop=True)\n",
        "    data = data.reset_index(drop=True)\n",
        "    #print(predicted)\n",
        "    #print(data)\n",
        "    print('Prediction accuracy: ',(np.sum(predicted[\"predicted\"] == data[\"output\"])/len(data))*100,'%')"
      ],
      "execution_count": 0,
      "outputs": []
    },
    {
      "cell_type": "code",
      "metadata": {
        "id": "1PSNbIMg7ixp",
        "colab_type": "code",
        "outputId": "7f8ec166-2a84-4ce2-b562-8356cd0fc886",
        "colab": {
          "base_uri": "https://localhost:8080/",
          "height": 35
        }
      },
      "source": [
        "accuracy_test(data_testing,tree)"
      ],
      "execution_count": 18,
      "outputs": [
        {
          "output_type": "stream",
          "text": [
            "Prediction accuracy:  0.0 %\n"
          ],
          "name": "stdout"
        }
      ]
    },
    {
      "cell_type": "markdown",
      "metadata": {
        "id": "pMkH0a1yDTxe",
        "colab_type": "text"
      },
      "source": [
        "5. Build a decision tree for a same data set using ID3 and CART algorithm and\n",
        "record your observations on ID3 and CART(Classification And Regression\n",
        "Tree) Algorithm."
      ]
    },
    {
      "cell_type": "code",
      "metadata": {
        "colab_type": "code",
        "outputId": "e96c8ae2-5c6f-4865-d617-e4f678c49665",
        "id": "-7NvCQkw8sHR",
        "colab": {
          "base_uri": "https://localhost:8080/",
          "height": 54
        }
      },
      "source": [
        "from sklearn.datasets import load_iris\n",
        "iris_data=load_iris()\n",
        "print(iris_data.feature_names)\n",
        "print(iris_data.target_names)"
      ],
      "execution_count": 19,
      "outputs": [
        {
          "output_type": "stream",
          "text": [
            "['sepal length (cm)', 'sepal width (cm)', 'petal length (cm)', 'petal width (cm)']\n",
            "['setosa' 'versicolor' 'virginica']\n"
          ],
          "name": "stdout"
        }
      ]
    },
    {
      "cell_type": "code",
      "metadata": {
        "colab_type": "code",
        "outputId": "a9cf5e31-cfa9-4abe-fe9f-9360466e2caf",
        "id": "biDnHwfl8y2u",
        "colab": {
          "base_uri": "https://localhost:8080/",
          "height": 407
        }
      },
      "source": [
        "data=pd.DataFrame(iris_data.data,columns=iris_data.feature_names)\n",
        "data"
      ],
      "execution_count": 20,
      "outputs": [
        {
          "output_type": "execute_result",
          "data": {
            "text/html": [
              "<div>\n",
              "<style scoped>\n",
              "    .dataframe tbody tr th:only-of-type {\n",
              "        vertical-align: middle;\n",
              "    }\n",
              "\n",
              "    .dataframe tbody tr th {\n",
              "        vertical-align: top;\n",
              "    }\n",
              "\n",
              "    .dataframe thead th {\n",
              "        text-align: right;\n",
              "    }\n",
              "</style>\n",
              "<table border=\"1\" class=\"dataframe\">\n",
              "  <thead>\n",
              "    <tr style=\"text-align: right;\">\n",
              "      <th></th>\n",
              "      <th>sepal length (cm)</th>\n",
              "      <th>sepal width (cm)</th>\n",
              "      <th>petal length (cm)</th>\n",
              "      <th>petal width (cm)</th>\n",
              "    </tr>\n",
              "  </thead>\n",
              "  <tbody>\n",
              "    <tr>\n",
              "      <th>0</th>\n",
              "      <td>5.1</td>\n",
              "      <td>3.5</td>\n",
              "      <td>1.4</td>\n",
              "      <td>0.2</td>\n",
              "    </tr>\n",
              "    <tr>\n",
              "      <th>1</th>\n",
              "      <td>4.9</td>\n",
              "      <td>3.0</td>\n",
              "      <td>1.4</td>\n",
              "      <td>0.2</td>\n",
              "    </tr>\n",
              "    <tr>\n",
              "      <th>2</th>\n",
              "      <td>4.7</td>\n",
              "      <td>3.2</td>\n",
              "      <td>1.3</td>\n",
              "      <td>0.2</td>\n",
              "    </tr>\n",
              "    <tr>\n",
              "      <th>3</th>\n",
              "      <td>4.6</td>\n",
              "      <td>3.1</td>\n",
              "      <td>1.5</td>\n",
              "      <td>0.2</td>\n",
              "    </tr>\n",
              "    <tr>\n",
              "      <th>4</th>\n",
              "      <td>5.0</td>\n",
              "      <td>3.6</td>\n",
              "      <td>1.4</td>\n",
              "      <td>0.2</td>\n",
              "    </tr>\n",
              "    <tr>\n",
              "      <th>...</th>\n",
              "      <td>...</td>\n",
              "      <td>...</td>\n",
              "      <td>...</td>\n",
              "      <td>...</td>\n",
              "    </tr>\n",
              "    <tr>\n",
              "      <th>145</th>\n",
              "      <td>6.7</td>\n",
              "      <td>3.0</td>\n",
              "      <td>5.2</td>\n",
              "      <td>2.3</td>\n",
              "    </tr>\n",
              "    <tr>\n",
              "      <th>146</th>\n",
              "      <td>6.3</td>\n",
              "      <td>2.5</td>\n",
              "      <td>5.0</td>\n",
              "      <td>1.9</td>\n",
              "    </tr>\n",
              "    <tr>\n",
              "      <th>147</th>\n",
              "      <td>6.5</td>\n",
              "      <td>3.0</td>\n",
              "      <td>5.2</td>\n",
              "      <td>2.0</td>\n",
              "    </tr>\n",
              "    <tr>\n",
              "      <th>148</th>\n",
              "      <td>6.2</td>\n",
              "      <td>3.4</td>\n",
              "      <td>5.4</td>\n",
              "      <td>2.3</td>\n",
              "    </tr>\n",
              "    <tr>\n",
              "      <th>149</th>\n",
              "      <td>5.9</td>\n",
              "      <td>3.0</td>\n",
              "      <td>5.1</td>\n",
              "      <td>1.8</td>\n",
              "    </tr>\n",
              "  </tbody>\n",
              "</table>\n",
              "<p>150 rows × 4 columns</p>\n",
              "</div>"
            ],
            "text/plain": [
              "     sepal length (cm)  sepal width (cm)  petal length (cm)  petal width (cm)\n",
              "0                  5.1               3.5                1.4               0.2\n",
              "1                  4.9               3.0                1.4               0.2\n",
              "2                  4.7               3.2                1.3               0.2\n",
              "3                  4.6               3.1                1.5               0.2\n",
              "4                  5.0               3.6                1.4               0.2\n",
              "..                 ...               ...                ...               ...\n",
              "145                6.7               3.0                5.2               2.3\n",
              "146                6.3               2.5                5.0               1.9\n",
              "147                6.5               3.0                5.2               2.0\n",
              "148                6.2               3.4                5.4               2.3\n",
              "149                5.9               3.0                5.1               1.8\n",
              "\n",
              "[150 rows x 4 columns]"
            ]
          },
          "metadata": {
            "tags": []
          },
          "execution_count": 20
        }
      ]
    },
    {
      "cell_type": "code",
      "metadata": {
        "id": "jhv2jBsVky59",
        "colab_type": "code",
        "outputId": "c6a6a67f-b0ed-49b6-b085-f0eb5d240f63",
        "colab": {
          "base_uri": "https://localhost:8080/",
          "height": 235
        }
      },
      "source": [
        "#CART\n",
        "\n",
        "data['class']=iris_data.target\n",
        "x=data.drop('class',axis=1)\n",
        "y=data['class']\n",
        "y"
      ],
      "execution_count": 21,
      "outputs": [
        {
          "output_type": "execute_result",
          "data": {
            "text/plain": [
              "0      0\n",
              "1      0\n",
              "2      0\n",
              "3      0\n",
              "4      0\n",
              "      ..\n",
              "145    2\n",
              "146    2\n",
              "147    2\n",
              "148    2\n",
              "149    2\n",
              "Name: class, Length: 150, dtype: int64"
            ]
          },
          "metadata": {
            "tags": []
          },
          "execution_count": 21
        }
      ]
    },
    {
      "cell_type": "code",
      "metadata": {
        "id": "nszwxx7gjYbC",
        "colab_type": "code",
        "outputId": "fbbf56c8-490b-4fe6-f848-072a3a96950a",
        "colab": {
          "base_uri": "https://localhost:8080/",
          "height": 288
        }
      },
      "source": [
        "x.describe()"
      ],
      "execution_count": 22,
      "outputs": [
        {
          "output_type": "execute_result",
          "data": {
            "text/html": [
              "<div>\n",
              "<style scoped>\n",
              "    .dataframe tbody tr th:only-of-type {\n",
              "        vertical-align: middle;\n",
              "    }\n",
              "\n",
              "    .dataframe tbody tr th {\n",
              "        vertical-align: top;\n",
              "    }\n",
              "\n",
              "    .dataframe thead th {\n",
              "        text-align: right;\n",
              "    }\n",
              "</style>\n",
              "<table border=\"1\" class=\"dataframe\">\n",
              "  <thead>\n",
              "    <tr style=\"text-align: right;\">\n",
              "      <th></th>\n",
              "      <th>sepal length (cm)</th>\n",
              "      <th>sepal width (cm)</th>\n",
              "      <th>petal length (cm)</th>\n",
              "      <th>petal width (cm)</th>\n",
              "    </tr>\n",
              "  </thead>\n",
              "  <tbody>\n",
              "    <tr>\n",
              "      <th>count</th>\n",
              "      <td>150.000000</td>\n",
              "      <td>150.000000</td>\n",
              "      <td>150.000000</td>\n",
              "      <td>150.000000</td>\n",
              "    </tr>\n",
              "    <tr>\n",
              "      <th>mean</th>\n",
              "      <td>5.843333</td>\n",
              "      <td>3.057333</td>\n",
              "      <td>3.758000</td>\n",
              "      <td>1.199333</td>\n",
              "    </tr>\n",
              "    <tr>\n",
              "      <th>std</th>\n",
              "      <td>0.828066</td>\n",
              "      <td>0.435866</td>\n",
              "      <td>1.765298</td>\n",
              "      <td>0.762238</td>\n",
              "    </tr>\n",
              "    <tr>\n",
              "      <th>min</th>\n",
              "      <td>4.300000</td>\n",
              "      <td>2.000000</td>\n",
              "      <td>1.000000</td>\n",
              "      <td>0.100000</td>\n",
              "    </tr>\n",
              "    <tr>\n",
              "      <th>25%</th>\n",
              "      <td>5.100000</td>\n",
              "      <td>2.800000</td>\n",
              "      <td>1.600000</td>\n",
              "      <td>0.300000</td>\n",
              "    </tr>\n",
              "    <tr>\n",
              "      <th>50%</th>\n",
              "      <td>5.800000</td>\n",
              "      <td>3.000000</td>\n",
              "      <td>4.350000</td>\n",
              "      <td>1.300000</td>\n",
              "    </tr>\n",
              "    <tr>\n",
              "      <th>75%</th>\n",
              "      <td>6.400000</td>\n",
              "      <td>3.300000</td>\n",
              "      <td>5.100000</td>\n",
              "      <td>1.800000</td>\n",
              "    </tr>\n",
              "    <tr>\n",
              "      <th>max</th>\n",
              "      <td>7.900000</td>\n",
              "      <td>4.400000</td>\n",
              "      <td>6.900000</td>\n",
              "      <td>2.500000</td>\n",
              "    </tr>\n",
              "  </tbody>\n",
              "</table>\n",
              "</div>"
            ],
            "text/plain": [
              "       sepal length (cm)  sepal width (cm)  petal length (cm)  petal width (cm)\n",
              "count         150.000000        150.000000         150.000000        150.000000\n",
              "mean            5.843333          3.057333           3.758000          1.199333\n",
              "std             0.828066          0.435866           1.765298          0.762238\n",
              "min             4.300000          2.000000           1.000000          0.100000\n",
              "25%             5.100000          2.800000           1.600000          0.300000\n",
              "50%             5.800000          3.000000           4.350000          1.300000\n",
              "75%             6.400000          3.300000           5.100000          1.800000\n",
              "max             7.900000          4.400000           6.900000          2.500000"
            ]
          },
          "metadata": {
            "tags": []
          },
          "execution_count": 22
        }
      ]
    },
    {
      "cell_type": "code",
      "metadata": {
        "id": "Xuj5M0mpfF17",
        "colab_type": "code",
        "outputId": "7a197573-f89b-4c67-ada4-4b7590072cab",
        "colab": {
          "base_uri": "https://localhost:8080/",
          "height": 35
        }
      },
      "source": [
        "x_train,x_test,y_train,y_test=train_test_split(x,y,test_size=0.25,random_state=42)\n",
        "x_train.shape,x_test.shape"
      ],
      "execution_count": 23,
      "outputs": [
        {
          "output_type": "execute_result",
          "data": {
            "text/plain": [
              "((112, 4), (38, 4))"
            ]
          },
          "metadata": {
            "tags": []
          },
          "execution_count": 23
        }
      ]
    },
    {
      "cell_type": "code",
      "metadata": {
        "id": "QKC4QqU8Ddye",
        "colab_type": "code",
        "colab": {}
      },
      "source": [
        "from sklearn.tree import DecisionTreeClassifier\n",
        "classifier=DecisionTreeClassifier(\n",
        "    criterion='gini',\n",
        "    max_depth=10,\n",
        "    min_samples_split=10,\n",
        "    min_samples_leaf=10,\n",
        "    max_features=0.7,\n",
        "    random_state=42\n",
        ")"
      ],
      "execution_count": 0,
      "outputs": []
    },
    {
      "cell_type": "code",
      "metadata": {
        "id": "FONTFmbTt8Sn",
        "colab_type": "code",
        "outputId": "8b5ae877-e49e-43a9-8d00-bbee888e03c7",
        "colab": {
          "base_uri": "https://localhost:8080/",
          "height": 126
        }
      },
      "source": [
        "classifier.fit(x_train,y_train)"
      ],
      "execution_count": 25,
      "outputs": [
        {
          "output_type": "execute_result",
          "data": {
            "text/plain": [
              "DecisionTreeClassifier(ccp_alpha=0.0, class_weight=None, criterion='gini',\n",
              "                       max_depth=10, max_features=0.7, max_leaf_nodes=None,\n",
              "                       min_impurity_decrease=0.0, min_impurity_split=None,\n",
              "                       min_samples_leaf=10, min_samples_split=10,\n",
              "                       min_weight_fraction_leaf=0.0, presort='deprecated',\n",
              "                       random_state=42, splitter='best')"
            ]
          },
          "metadata": {
            "tags": []
          },
          "execution_count": 25
        }
      ]
    },
    {
      "cell_type": "code",
      "metadata": {
        "id": "Ibs102O-fhPY",
        "colab_type": "code",
        "outputId": "e163e6c0-7ac4-4de3-b3e5-ab78cdf57212",
        "colab": {
          "base_uri": "https://localhost:8080/",
          "height": 72
        }
      },
      "source": [
        "x.columns"
      ],
      "execution_count": 26,
      "outputs": [
        {
          "output_type": "execute_result",
          "data": {
            "text/plain": [
              "Index(['sepal length (cm)', 'sepal width (cm)', 'petal length (cm)',\n",
              "       'petal width (cm)'],\n",
              "      dtype='object')"
            ]
          },
          "metadata": {
            "tags": []
          },
          "execution_count": 26
        }
      ]
    },
    {
      "cell_type": "code",
      "metadata": {
        "id": "H1PtM37M0mR1",
        "colab_type": "code",
        "colab": {}
      },
      "source": [
        "from sklearn.tree import DecisionTreeClassifier, export_graphviz\n",
        "import graphviz\n",
        "dot_data=export_graphviz(\n",
        "    classifier,out_file=None,\n",
        "    feature_names=x.columns,\n",
        "    filled=True,rounded=True,\n",
        "    special_characters=True\n",
        ")"
      ],
      "execution_count": 0,
      "outputs": []
    },
    {
      "cell_type": "code",
      "metadata": {
        "id": "ArFUUzml0mVY",
        "colab_type": "code",
        "outputId": "d0d37d33-ff25-4ae0-f24a-01f2d2c74139",
        "colab": {
          "base_uri": "https://localhost:8080/",
          "height": 518
        }
      },
      "source": [
        "graph=graphviz.Source(dot_data)\n",
        "graph"
      ],
      "execution_count": 28,
      "outputs": [
        {
          "output_type": "execute_result",
          "data": {
            "text/plain": [
              "<graphviz.files.Source at 0x7f3c9224afd0>"
            ],
            "image/svg+xml": "<?xml version=\"1.0\" encoding=\"UTF-8\" standalone=\"no\"?>\n<!DOCTYPE svg PUBLIC \"-//W3C//DTD SVG 1.1//EN\"\n \"http://www.w3.org/Graphics/SVG/1.1/DTD/svg11.dtd\">\n<!-- Generated by graphviz version 2.40.1 (20161225.0304)\n -->\n<!-- Title: Tree Pages: 1 -->\n<svg width=\"567pt\" height=\"373pt\"\n viewBox=\"0.00 0.00 567.00 373.00\" xmlns=\"http://www.w3.org/2000/svg\" xmlns:xlink=\"http://www.w3.org/1999/xlink\">\n<g id=\"graph0\" class=\"graph\" transform=\"scale(1 1) rotate(0) translate(4 369)\">\n<title>Tree</title>\n<polygon fill=\"#ffffff\" stroke=\"transparent\" points=\"-4,4 -4,-369 563,-369 563,4 -4,4\"/>\n<!-- 0 -->\n<g id=\"node1\" class=\"node\">\n<title>0</title>\n<path fill=\"#fcfffd\" stroke=\"#000000\" d=\"M273,-365C273,-365 130,-365 130,-365 124,-365 118,-359 118,-353 118,-353 118,-309 118,-309 118,-303 124,-297 130,-297 130,-297 273,-297 273,-297 279,-297 285,-303 285,-309 285,-309 285,-353 285,-353 285,-359 279,-365 273,-365\"/>\n<text text-anchor=\"start\" x=\"126\" y=\"-349.8\" font-family=\"Helvetica,sans-Serif\" font-size=\"14.00\" fill=\"#000000\">petal length (cm) ≤ 2.45</text>\n<text text-anchor=\"start\" x=\"163.5\" y=\"-334.8\" font-family=\"Helvetica,sans-Serif\" font-size=\"14.00\" fill=\"#000000\">gini = 0.666</text>\n<text text-anchor=\"start\" x=\"153.5\" y=\"-319.8\" font-family=\"Helvetica,sans-Serif\" font-size=\"14.00\" fill=\"#000000\">samples = 112</text>\n<text text-anchor=\"start\" x=\"139.5\" y=\"-304.8\" font-family=\"Helvetica,sans-Serif\" font-size=\"14.00\" fill=\"#000000\">value = [35, 39, 38]</text>\n</g>\n<!-- 1 -->\n<g id=\"node2\" class=\"node\">\n<title>1</title>\n<path fill=\"#e58139\" stroke=\"#000000\" d=\"M171,-253.5C171,-253.5 72,-253.5 72,-253.5 66,-253.5 60,-247.5 60,-241.5 60,-241.5 60,-212.5 60,-212.5 60,-206.5 66,-200.5 72,-200.5 72,-200.5 171,-200.5 171,-200.5 177,-200.5 183,-206.5 183,-212.5 183,-212.5 183,-241.5 183,-241.5 183,-247.5 177,-253.5 171,-253.5\"/>\n<text text-anchor=\"start\" x=\"92\" y=\"-238.3\" font-family=\"Helvetica,sans-Serif\" font-size=\"14.00\" fill=\"#000000\">gini = 0.0</text>\n<text text-anchor=\"start\" x=\"77.5\" y=\"-223.3\" font-family=\"Helvetica,sans-Serif\" font-size=\"14.00\" fill=\"#000000\">samples = 35</text>\n<text text-anchor=\"start\" x=\"68\" y=\"-208.3\" font-family=\"Helvetica,sans-Serif\" font-size=\"14.00\" fill=\"#000000\">value = [35, 0, 0]</text>\n</g>\n<!-- 0&#45;&gt;1 -->\n<g id=\"edge1\" class=\"edge\">\n<title>0&#45;&gt;1</title>\n<path fill=\"none\" stroke=\"#000000\" d=\"M175.305,-296.9465C166.5778,-285.6012 156.8513,-272.9567 148.0941,-261.5724\"/>\n<polygon fill=\"#000000\" stroke=\"#000000\" points=\"150.7884,-259.3344 141.917,-253.5422 145.24,-263.6024 150.7884,-259.3344\"/>\n<text text-anchor=\"middle\" x=\"138.6836\" y=\"-274.6322\" font-family=\"Helvetica,sans-Serif\" font-size=\"14.00\" fill=\"#000000\">True</text>\n</g>\n<!-- 2 -->\n<g id=\"node3\" class=\"node\">\n<title>2</title>\n<path fill=\"#fafefc\" stroke=\"#000000\" d=\"M350,-261C350,-261 213,-261 213,-261 207,-261 201,-255 201,-249 201,-249 201,-205 201,-205 201,-199 207,-193 213,-193 213,-193 350,-193 350,-193 356,-193 362,-199 362,-205 362,-205 362,-249 362,-249 362,-255 356,-261 350,-261\"/>\n<text text-anchor=\"start\" x=\"209\" y=\"-245.8\" font-family=\"Helvetica,sans-Serif\" font-size=\"14.00\" fill=\"#000000\">petal width (cm) ≤ 1.75</text>\n<text text-anchor=\"start\" x=\"252\" y=\"-230.8\" font-family=\"Helvetica,sans-Serif\" font-size=\"14.00\" fill=\"#000000\">gini = 0.5</text>\n<text text-anchor=\"start\" x=\"237.5\" y=\"-215.8\" font-family=\"Helvetica,sans-Serif\" font-size=\"14.00\" fill=\"#000000\">samples = 77</text>\n<text text-anchor=\"start\" x=\"224\" y=\"-200.8\" font-family=\"Helvetica,sans-Serif\" font-size=\"14.00\" fill=\"#000000\">value = [0, 39, 38]</text>\n</g>\n<!-- 0&#45;&gt;2 -->\n<g id=\"edge2\" class=\"edge\">\n<title>0&#45;&gt;2</title>\n<path fill=\"none\" stroke=\"#000000\" d=\"M227.695,-296.9465C234.5325,-288.0578 241.9834,-278.3716 249.101,-269.1188\"/>\n<polygon fill=\"#000000\" stroke=\"#000000\" points=\"251.9232,-271.1903 255.2462,-261.13 246.3748,-266.9223 251.9232,-271.1903\"/>\n<text text-anchor=\"middle\" x=\"258.4796\" y=\"-282.22\" font-family=\"Helvetica,sans-Serif\" font-size=\"14.00\" fill=\"#000000\">False</text>\n</g>\n<!-- 3 -->\n<g id=\"node4\" class=\"node\">\n<title>3</title>\n<path fill=\"#53e892\" stroke=\"#000000\" d=\"M260,-157C260,-157 123,-157 123,-157 117,-157 111,-151 111,-145 111,-145 111,-101 111,-101 111,-95 117,-89 123,-89 123,-89 260,-89 260,-89 266,-89 272,-95 272,-101 272,-101 272,-145 272,-145 272,-151 266,-157 260,-157\"/>\n<text text-anchor=\"start\" x=\"119\" y=\"-141.8\" font-family=\"Helvetica,sans-Serif\" font-size=\"14.00\" fill=\"#000000\">petal width (cm) ≤ 1.35</text>\n<text text-anchor=\"start\" x=\"153.5\" y=\"-126.8\" font-family=\"Helvetica,sans-Serif\" font-size=\"14.00\" fill=\"#000000\">gini = 0.206</text>\n<text text-anchor=\"start\" x=\"147.5\" y=\"-111.8\" font-family=\"Helvetica,sans-Serif\" font-size=\"14.00\" fill=\"#000000\">samples = 43</text>\n<text text-anchor=\"start\" x=\"138\" y=\"-96.8\" font-family=\"Helvetica,sans-Serif\" font-size=\"14.00\" fill=\"#000000\">value = [0, 38, 5]</text>\n</g>\n<!-- 2&#45;&gt;3 -->\n<g id=\"edge3\" class=\"edge\">\n<title>2&#45;&gt;3</title>\n<path fill=\"none\" stroke=\"#000000\" d=\"M252.0306,-192.9465C244.2607,-183.968 235.7868,-174.1758 227.7064,-164.8385\"/>\n<polygon fill=\"#000000\" stroke=\"#000000\" points=\"230.226,-162.4014 221.0356,-157.13 224.9328,-166.982 230.226,-162.4014\"/>\n</g>\n<!-- 6 -->\n<g id=\"node7\" class=\"node\">\n<title>6</title>\n<path fill=\"#853fe6\" stroke=\"#000000\" d=\"M439,-157C439,-157 302,-157 302,-157 296,-157 290,-151 290,-145 290,-145 290,-101 290,-101 290,-95 296,-89 302,-89 302,-89 439,-89 439,-89 445,-89 451,-95 451,-101 451,-101 451,-145 451,-145 451,-151 445,-157 439,-157\"/>\n<text text-anchor=\"start\" x=\"298\" y=\"-141.8\" font-family=\"Helvetica,sans-Serif\" font-size=\"14.00\" fill=\"#000000\">petal width (cm) ≤ 1.85</text>\n<text text-anchor=\"start\" x=\"332.5\" y=\"-126.8\" font-family=\"Helvetica,sans-Serif\" font-size=\"14.00\" fill=\"#000000\">gini = 0.057</text>\n<text text-anchor=\"start\" x=\"326.5\" y=\"-111.8\" font-family=\"Helvetica,sans-Serif\" font-size=\"14.00\" fill=\"#000000\">samples = 34</text>\n<text text-anchor=\"start\" x=\"317\" y=\"-96.8\" font-family=\"Helvetica,sans-Serif\" font-size=\"14.00\" fill=\"#000000\">value = [0, 1, 33]</text>\n</g>\n<!-- 2&#45;&gt;6 -->\n<g id=\"edge6\" class=\"edge\">\n<title>2&#45;&gt;6</title>\n<path fill=\"none\" stroke=\"#000000\" d=\"M310.6419,-192.9465C318.3255,-183.968 326.7053,-174.1758 334.6959,-164.8385\"/>\n<polygon fill=\"#000000\" stroke=\"#000000\" points=\"337.4499,-167.0034 341.2926,-157.13 332.1315,-162.4521 337.4499,-167.0034\"/>\n</g>\n<!-- 4 -->\n<g id=\"node5\" class=\"node\">\n<title>4</title>\n<path fill=\"#39e581\" stroke=\"#000000\" d=\"M111,-53C111,-53 12,-53 12,-53 6,-53 0,-47 0,-41 0,-41 0,-12 0,-12 0,-6 6,0 12,0 12,0 111,0 111,0 117,0 123,-6 123,-12 123,-12 123,-41 123,-41 123,-47 117,-53 111,-53\"/>\n<text text-anchor=\"start\" x=\"32\" y=\"-37.8\" font-family=\"Helvetica,sans-Serif\" font-size=\"14.00\" fill=\"#000000\">gini = 0.0</text>\n<text text-anchor=\"start\" x=\"17.5\" y=\"-22.8\" font-family=\"Helvetica,sans-Serif\" font-size=\"14.00\" fill=\"#000000\">samples = 23</text>\n<text text-anchor=\"start\" x=\"8\" y=\"-7.8\" font-family=\"Helvetica,sans-Serif\" font-size=\"14.00\" fill=\"#000000\">value = [0, 23, 0]</text>\n</g>\n<!-- 3&#45;&gt;4 -->\n<g id=\"edge4\" class=\"edge\">\n<title>3&#45;&gt;4</title>\n<path fill=\"none\" stroke=\"#000000\" d=\"M145.6669,-88.9777C132.7143,-79.3629 118.6465,-68.9203 105.7867,-59.3743\"/>\n<polygon fill=\"#000000\" stroke=\"#000000\" points=\"107.6499,-56.3986 97.5342,-53.2485 103.4776,-62.0193 107.6499,-56.3986\"/>\n</g>\n<!-- 5 -->\n<g id=\"node6\" class=\"node\">\n<title>5</title>\n<path fill=\"#7beeab\" stroke=\"#000000\" d=\"M252,-53C252,-53 153,-53 153,-53 147,-53 141,-47 141,-41 141,-41 141,-12 141,-12 141,-6 147,0 153,0 153,0 252,0 252,0 258,0 264,-6 264,-12 264,-12 264,-41 264,-41 264,-47 258,-53 252,-53\"/>\n<text text-anchor=\"start\" x=\"164.5\" y=\"-37.8\" font-family=\"Helvetica,sans-Serif\" font-size=\"14.00\" fill=\"#000000\">gini = 0.375</text>\n<text text-anchor=\"start\" x=\"158.5\" y=\"-22.8\" font-family=\"Helvetica,sans-Serif\" font-size=\"14.00\" fill=\"#000000\">samples = 20</text>\n<text text-anchor=\"start\" x=\"149\" y=\"-7.8\" font-family=\"Helvetica,sans-Serif\" font-size=\"14.00\" fill=\"#000000\">value = [0, 15, 5]</text>\n</g>\n<!-- 3&#45;&gt;5 -->\n<g id=\"edge5\" class=\"edge\">\n<title>3&#45;&gt;5</title>\n<path fill=\"none\" stroke=\"#000000\" d=\"M195.3782,-88.9777C196.328,-80.6449 197.3488,-71.6903 198.3124,-63.2364\"/>\n<polygon fill=\"#000000\" stroke=\"#000000\" points=\"201.7958,-63.5806 199.451,-53.2485 194.8408,-62.7877 201.7958,-63.5806\"/>\n</g>\n<!-- 7 -->\n<g id=\"node8\" class=\"node\">\n<title>7</title>\n<path fill=\"#8f4fe8\" stroke=\"#000000\" d=\"M406,-53C406,-53 315,-53 315,-53 309,-53 303,-47 303,-41 303,-41 303,-12 303,-12 303,-6 309,0 315,0 315,0 406,0 406,0 412,0 418,-6 418,-12 418,-12 418,-41 418,-41 418,-47 412,-53 406,-53\"/>\n<text text-anchor=\"start\" x=\"327\" y=\"-37.8\" font-family=\"Helvetica,sans-Serif\" font-size=\"14.00\" fill=\"#000000\">gini = 0.18</text>\n<text text-anchor=\"start\" x=\"316.5\" y=\"-22.8\" font-family=\"Helvetica,sans-Serif\" font-size=\"14.00\" fill=\"#000000\">samples = 10</text>\n<text text-anchor=\"start\" x=\"311\" y=\"-7.8\" font-family=\"Helvetica,sans-Serif\" font-size=\"14.00\" fill=\"#000000\">value = [0, 1, 9]</text>\n</g>\n<!-- 6&#45;&gt;7 -->\n<g id=\"edge7\" class=\"edge\">\n<title>6&#45;&gt;7</title>\n<path fill=\"none\" stroke=\"#000000\" d=\"M366.9744,-88.9777C366.1109,-80.6449 365.1829,-71.6903 364.3069,-63.2364\"/>\n<polygon fill=\"#000000\" stroke=\"#000000\" points=\"367.7841,-62.8344 363.2719,-53.2485 360.8213,-63.556 367.7841,-62.8344\"/>\n</g>\n<!-- 8 -->\n<g id=\"node9\" class=\"node\">\n<title>8</title>\n<path fill=\"#8139e5\" stroke=\"#000000\" d=\"M547,-53C547,-53 448,-53 448,-53 442,-53 436,-47 436,-41 436,-41 436,-12 436,-12 436,-6 442,0 448,0 448,0 547,0 547,0 553,0 559,-6 559,-12 559,-12 559,-41 559,-41 559,-47 553,-53 547,-53\"/>\n<text text-anchor=\"start\" x=\"468\" y=\"-37.8\" font-family=\"Helvetica,sans-Serif\" font-size=\"14.00\" fill=\"#000000\">gini = 0.0</text>\n<text text-anchor=\"start\" x=\"453.5\" y=\"-22.8\" font-family=\"Helvetica,sans-Serif\" font-size=\"14.00\" fill=\"#000000\">samples = 24</text>\n<text text-anchor=\"start\" x=\"444\" y=\"-7.8\" font-family=\"Helvetica,sans-Serif\" font-size=\"14.00\" fill=\"#000000\">value = [0, 0, 24]</text>\n</g>\n<!-- 6&#45;&gt;8 -->\n<g id=\"edge8\" class=\"edge\">\n<title>6&#45;&gt;8</title>\n<path fill=\"none\" stroke=\"#000000\" d=\"M415.2754,-88.9777C427.9292,-79.3629 441.6723,-68.9203 454.2353,-59.3743\"/>\n<polygon fill=\"#000000\" stroke=\"#000000\" points=\"456.4526,-62.0853 462.2973,-53.2485 452.2176,-56.5118 456.4526,-62.0853\"/>\n</g>\n</g>\n</svg>\n"
          },
          "metadata": {
            "tags": []
          },
          "execution_count": 28
        }
      ]
    },
    {
      "cell_type": "code",
      "metadata": {
        "id": "imjVh4Bv0mbC",
        "colab_type": "code",
        "outputId": "7c0bde3d-9b93-4435-997c-0c9d5b947773",
        "colab": {
          "base_uri": "https://localhost:8080/",
          "height": 283
        }
      },
      "source": [
        "from sklearn.metrics import confusion_matrix\n",
        "y_pred=classifier.predict(x_test)\n",
        "cm=confusion_matrix(y_test,y_pred)\n",
        "sns.heatmap(cm,annot=True,fmt='d',)"
      ],
      "execution_count": 29,
      "outputs": [
        {
          "output_type": "execute_result",
          "data": {
            "text/plain": [
              "<matplotlib.axes._subplots.AxesSubplot at 0x7f3c92275b00>"
            ]
          },
          "metadata": {
            "tags": []
          },
          "execution_count": 29
        },
        {
          "output_type": "display_data",
          "data": {
            "image/png": "[encoded data removed]",
            "text/plain": [
              "<Figure size 432x288 with 2 Axes>"
            ]
          },
          "metadata": {
            "tags": []
          }
        }
      ]
    },
    {
      "cell_type": "code",
      "metadata": {
        "id": "Cr2bCrkadmRY",
        "colab_type": "code",
        "outputId": "b6525cae-8fcb-4d01-8cbb-3f9904542d45",
        "colab": {
          "base_uri": "https://localhost:8080/",
          "height": 108
        }
      },
      "source": [
        "from sklearn.metrics import confusion_matrix\n",
        "\n",
        "cm = confusion_matrix(y_test, y_pred)\n",
        "\n",
        "print('Confusion matrix\\n\\n', cm)"
      ],
      "execution_count": 30,
      "outputs": [
        {
          "output_type": "stream",
          "text": [
            "Confusion matrix\n",
            "\n",
            " [[15  0  0]\n",
            " [ 0 11  0]\n",
            " [ 0  0 12]]\n"
          ],
          "name": "stdout"
        }
      ]
    },
    {
      "cell_type": "code",
      "metadata": {
        "id": "z4a9rXINdmsU",
        "colab_type": "code",
        "colab": {}
      },
      "source": [
        ""
      ],
      "execution_count": 0,
      "outputs": []
    }
  ]
}