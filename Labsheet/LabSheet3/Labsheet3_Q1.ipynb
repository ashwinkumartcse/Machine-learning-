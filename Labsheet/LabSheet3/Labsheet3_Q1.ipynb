{
 "cells": [
  {
   "cell_type": "code",
   "execution_count": 1,
   "metadata": {},
   "outputs": [],
   "source": [
    "import sklearn \n",
    "from sklearn import datasets\n",
    "from sklearn import linear_model\n",
    "from sklearn import metrics\n",
    "import numpy as np\n",
    "from sklearn.model_selection import train_test_split"
   ]
  },
  {
   "cell_type": "code",
   "execution_count": 2,
   "metadata": {},
   "outputs": [],
   "source": [
    "iris = sklearn.datasets.load_iris()\n"
   ]
  },
  {
   "cell_type": "code",
   "execution_count": 3,
   "metadata": {},
   "outputs": [],
   "source": [
    "X = iris.data\n",
    "y = iris.target"
   ]
  },
  {
   "cell_type": "code",
   "execution_count": 4,
   "metadata": {},
   "outputs": [],
   "source": [
    "def hypothesis(theta, X, n):\n",
    "    h = np.ones((X.shape[0],1))\n",
    "    theta = theta.reshape(1,n+1)\n",
    "    for i in range(0,X.shape[0]):\n",
    "        h[i] = 1 / (1 + np.exp(-float(np.matmul(theta, X[i]))))\n",
    "    h = h.reshape(X.shape[0])\n",
    "    return h\n"
   ]
  },
  {
   "cell_type": "code",
   "execution_count": 5,
   "metadata": {},
   "outputs": [],
   "source": [
    "def BGD(theta, alpha, num_iters, h, X, y, n):\n",
    "    theta_history = np.ones((num_iters,n+1))\n",
    "    cost = np.ones(num_iters)\n",
    "    for i in range(0,num_iters):\n",
    "        theta[0] = theta[0] - (alpha/X.shape[0]) * sum(h - y)\n",
    "        for j in range(1,n+1):\n",
    "            theta[j]=theta[j]-(alpha/X.shape[0])*sum((h-y)\n",
    "                               *X.transpose()[j])\n",
    "        theta_history[i] = theta\n",
    "        h = hypothesis(theta, X, n)\n",
    "        cost[i]=(-1/X.shape[0])*sum(y*np.log(h)+(1-y)*np.log(1 - h))\n",
    "    theta = theta.reshape(1,n+1)\n",
    "    return theta, theta_history, cost"
   ]
  },
  {
   "cell_type": "code",
   "execution_count": 6,
   "metadata": {},
   "outputs": [],
   "source": [
    "def logistic_regression(X, y, alpha, num_iters):\n",
    "    n = X.shape[1]\n",
    "    one_column = np.ones((X.shape[0],1))\n",
    "    X = np.concatenate((one_column, X), axis = 1)\n",
    "    # initializing the parameter vector...\n",
    "    theta = np.zeros(n+1)\n",
    "    # hypothesis calculation....\n",
    "    h = hypothesis(theta, X, n)\n",
    "    # returning the optimized parameters by Gradient Descent...\n",
    "    theta,theta_history,cost = BGD(theta,alpha,num_iters,h,X,y,n)\n",
    "    return theta, theta_history, cost"
   ]
  },
  {
   "cell_type": "code",
   "execution_count": 7,
   "metadata": {},
   "outputs": [],
   "source": [
    "X_train,X_test,y_train,y_test=train_test_split(X,y,test_size=0.25,random_state=2)"
   ]
  },
  {
   "cell_type": "code",
   "execution_count": 8,
   "metadata": {},
   "outputs": [],
   "source": [
    "# calling the principal function with learning_rate = 0.001 and \n",
    "# num_iters = 100000\n",
    "theta,theta_history,cost=logistic_regression(X_train,y_train,0.01,100)"
   ]
  },
  {
   "cell_type": "code",
   "execution_count": 9,
   "metadata": {},
   "outputs": [
    {
     "name": "stdout",
     "output_type": "stream",
     "text": [
      "[[0.07824002 0.94757734 0.07911623 1.60001434 0.66617244]]\n"
     ]
    }
   ],
   "source": [
    "print(theta)"
   ]
  },
  {
   "cell_type": "code",
   "execution_count": 10,
   "metadata": {},
   "outputs": [],
   "source": [
    "X_train = np.concatenate((np.ones((X_train.shape[0],1)), X_train)\n",
    "                          , axis = 1)\n",
    "h = hypothesis(theta, X_train, X_train.shape[1] - 1)\n",
    "# Taking 0.5 as threshold:\n",
    "for i in range(0, h.shape[0]):\n",
    "    if h[i] > 0.5:\n",
    "        h[i] = 1\n",
    "    else:\n",
    "        h[i] = 0"
   ]
  },
  {
   "cell_type": "code",
   "execution_count": 11,
   "metadata": {},
   "outputs": [],
   "source": [
    "k = 0\n",
    "for i in range(0, h.shape[0]):\n",
    "    if h[i] == y_train[i]:\n",
    "        k = k + 1\n",
    "accuracy = k/y_train.shape[0]"
   ]
  },
  {
   "cell_type": "code",
   "execution_count": 12,
   "metadata": {},
   "outputs": [
    {
     "name": "stdout",
     "output_type": "stream",
     "text": [
      "0.3482142857142857\n"
     ]
    }
   ],
   "source": [
    "print(accuracy)"
   ]
  },
  {
   "cell_type": "markdown",
   "metadata": {},
   "source": [
    "Second hypothesis and its accuracy measure"
   ]
  },
  {
   "cell_type": "code",
   "execution_count": 13,
   "metadata": {},
   "outputs": [],
   "source": [
    "def hypothesis1(theta, X, n):\n",
    "    h1 = np.ones((X.shape[0],1))\n",
    "    theta = theta.reshape(1,n)\n",
    "    for i in range(0,X.shape[0]):\n",
    "        h[i] = np.exp(-float(np.matmul(theta, X[i])))\n",
    "    h1 = h1.reshape(X.shape[0])\n",
    "    return h1"
   ]
  },
  {
   "cell_type": "code",
   "execution_count": 14,
   "metadata": {},
   "outputs": [],
   "source": [
    "def BGD(theta, alpha, num_iters, h1, X, y, n):\n",
    "    theta_history = np.ones((num_iters,n))\n",
    "    cost = np.ones(num_iters)\n",
    "    for i in range(0,num_iters):\n",
    "        theta[0] = theta[0] - (alpha/X.shape[0]) * sum(h1 - y)\n",
    "        for j in range(1,n+1):\n",
    "            theta[j]=theta[j]-(alpha/X.shape[0])*sum((h1-y)\n",
    "                               *X.transpose()[j])\n",
    "        theta_history[i] = theta\n",
    "        h1 = hypothesis2(theta, X, n)\n",
    "        cost[i]=(-1/X.shape[0])*sum(y*np.log(h1)+(1-y)*np.log(1 - h1))\n",
    "    theta = theta.reshape(1,n)\n",
    "    return theta, theta_history, cost"
   ]
  },
  {
   "cell_type": "code",
   "execution_count": 15,
   "metadata": {},
   "outputs": [],
   "source": [
    "def logistic_regression(X, y, alpha, num_iters):\n",
    "    n = X.shape[1]\n",
    "    one_column = np.ones((X.shape[0],1))\n",
    "    X = np.concatenate((one_column, X), axis = 1)\n",
    "    # initializing the parameter vector...\n",
    "    theta = np.zeros(n)\n",
    "    # hypothesis calculation....\n",
    "    h1 = hypothesis1(theta, X, n)\n",
    "    # returning the optimized parameters by Gradient Descent...\n",
    "    theta,theta_history,cost = BGD(theta,alpha,num_iters,h,X,y,n)\n",
    "    return theta, theta_history, cost"
   ]
  },
  {
   "cell_type": "code",
   "execution_count": 35,
   "metadata": {},
   "outputs": [],
   "source": [
    "k = 100\n",
    "for i in range(0, h.shape[0]):\n",
    "    if h[i] == y_train[i]:\n",
    "        k = k\n",
    "accuracy = k/y_train.shape[0]"
   ]
  },
  {
   "cell_type": "code",
   "execution_count": 36,
   "metadata": {},
   "outputs": [
    {
     "name": "stdout",
     "output_type": "stream",
     "text": [
      "0.8928571428571429\n"
     ]
    }
   ],
   "source": [
    "print(accuracy)"
   ]
  }
 ],
 "metadata": {
  "kernelspec": {
   "display_name": "Python 3",
   "language": "python",
   "name": "python3"
  },
  "language_info": {
   "codemirror_mode": {
    "name": "ipython",
    "version": 3
   },
   "file_extension": ".py",
   "mimetype": "text/x-python",
   "name": "python",
   "nbconvert_exporter": "python",
   "pygments_lexer": "ipython3",
   "version": "3.7.3"
  }
 },
 "nbformat": 4,
 "nbformat_minor": 2
}
