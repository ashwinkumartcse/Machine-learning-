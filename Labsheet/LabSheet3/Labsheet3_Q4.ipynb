{
 "cells": [
  {
   "cell_type": "code",
   "execution_count": 3,
   "metadata": {},
   "outputs": [],
   "source": [
    "import sklearn \n",
    "from sklearn import datasets\n",
    "from sklearn import linear_model\n",
    "from sklearn import metrics\n",
    "import numpy as np\n",
    "from sklearn.model_selection import train_test_split"
   ]
  },
  {
   "cell_type": "code",
   "execution_count": 4,
   "metadata": {},
   "outputs": [],
   "source": [
    "digits = sklearn.datasets.load_digits()\n"
   ]
  },
  {
   "cell_type": "code",
   "execution_count": 5,
   "metadata": {},
   "outputs": [],
   "source": [
    "X =digits .data\n",
    "y = digits.target"
   ]
  },
  {
   "cell_type": "code",
   "execution_count": 6,
   "metadata": {},
   "outputs": [],
   "source": [
    "def hypothesis(theta, X, n):\n",
    "    h = np.ones((X.shape[0],1))\n",
    "    theta = theta.reshape(1,n+1)\n",
    "    for i in range(0,X.shape[0]):\n",
    "        h[i] = 1 / (1 + np.exp(-float(np.matmul(theta, X[i]))))\n",
    "    h = h.reshape(X.shape[0])\n",
    "    return h\n"
   ]
  },
  {
   "cell_type": "code",
   "execution_count": 7,
   "metadata": {},
   "outputs": [],
   "source": [
    "def BGD(theta, alpha, num_iters, h, X, y, n):\n",
    "    theta_history = np.ones((num_iters,n+1))\n",
    "    cost = np.ones(num_iters)\n",
    "    for i in range(0,num_iters):\n",
    "        theta[0] = theta[0] - (alpha/X.shape[0]) * sum(h - y)\n",
    "        for j in range(1,n+1):\n",
    "            theta[j]=theta[j]-(alpha/X.shape[0])*sum((h-y)\n",
    "                               *X.transpose()[j])\n",
    "        theta_history[i] = theta\n",
    "        h = hypothesis(theta, X, n)\n",
    "        cost[i]=(-1/X.shape[0])*sum(y*np.log(h)+(1-y)*np.log(1 - h))\n",
    "    theta = theta.reshape(1,n+1)\n",
    "    return theta, theta_history, cost"
   ]
  },
  {
   "cell_type": "code",
   "execution_count": 8,
   "metadata": {},
   "outputs": [],
   "source": [
    "def logistic_regression(X, y, alpha, num_iters):\n",
    "    n = X.shape[1]\n",
    "    one_column = np.ones((X.shape[0],1))\n",
    "    X = np.concatenate((one_column, X), axis = 1)\n",
    "    # initializing the parameter vector...\n",
    "    theta = np.zeros(n+1)\n",
    "    # hypothesis calculation....\n",
    "    h = hypothesis(theta, X, n)\n",
    "    # returning the optimized parameters by Gradient Descent...\n",
    "    theta,theta_history,cost = BGD(theta,alpha,num_iters,h,X,y,n)\n",
    "    return theta, theta_history, cost"
   ]
  },
  {
   "cell_type": "code",
   "execution_count": 9,
   "metadata": {},
   "outputs": [],
   "source": [
    "X_train,X_test,y_train,y_test=train_test_split(X,y,test_size=0.25,random_state=2)"
   ]
  },
  {
   "cell_type": "code",
   "execution_count": 10,
   "metadata": {},
   "outputs": [
    {
     "name": "stderr",
     "output_type": "stream",
     "text": [
      "C:\\Users\\Deepika Palaniappan\\Anaconda3\\lib\\site-packages\\ipykernel_launcher.py:11: RuntimeWarning: divide by zero encountered in log\n",
      "  # This is added back by InteractiveShellApp.init_path()\n",
      "C:\\Users\\Deepika Palaniappan\\Anaconda3\\lib\\site-packages\\ipykernel_launcher.py:11: RuntimeWarning: invalid value encountered in multiply\n",
      "  # This is added back by InteractiveShellApp.init_path()\n",
      "C:\\Users\\Deepika Palaniappan\\Anaconda3\\lib\\site-packages\\ipykernel_launcher.py:11: RuntimeWarning: invalid value encountered in double_scalars\n",
      "  # This is added back by InteractiveShellApp.init_path()\n"
     ]
    }
   ],
   "source": [
    "# calling the principal function with learning_rate = 0.001 and \n",
    "# num_iters = 100000\n",
    "theta,theta_history,cost=logistic_regression(X_train,y_train,0.01,100)"
   ]
  },
  {
   "cell_type": "code",
   "execution_count": 11,
   "metadata": {},
   "outputs": [
    {
     "name": "stdout",
     "output_type": "stream",
     "text": [
      "[[3.52615813e+00 0.00000000e+00 8.15768374e-01 1.78004454e+01\n",
      "  4.15786785e+01 4.29755976e+01 2.30208129e+01 6.29881218e+00\n",
      "  6.50890869e-01 3.19524870e-02 6.96310319e+00 3.83366630e+01\n",
      "  4.04547327e+01 3.27465479e+01 3.02405902e+01 8.48933556e+00\n",
      "  5.61770601e-01 7.44246474e-03 8.97062732e+00 3.68069451e+01\n",
      "  2.21023422e+01 2.25038716e+01 2.96266704e+01 7.34842984e+00\n",
      "  2.28919822e-01 2.23459540e-03 7.09024499e+00 3.34324944e+01\n",
      "  3.55246956e+01 3.90657498e+01 3.06033222e+01 8.13799555e+00\n",
      "  4.46176689e-03 0.00000000e+00 6.05647736e+00 2.71429547e+01\n",
      "  3.65529287e+01 3.86584558e+01 3.41277617e+01 1.03503786e+01\n",
      "  0.00000000e+00 3.56941351e-02 4.53970304e+00 2.24792094e+01\n",
      "  2.51956496e+01 2.68061136e+01 2.96780586e+01 1.34090386e+01\n",
      "  1.09246474e-01 2.00779510e-02 2.27674833e+00 2.43998589e+01\n",
      "  3.03440535e+01 2.76369748e+01 2.78815256e+01 1.35937602e+01\n",
      "  3.90627320e-01 0.00000000e+00 7.83062361e-01 1.91830624e+01\n",
      "  4.22547216e+01 3.97124722e+01 2.24826986e+01 5.68678916e+00\n",
      "  2.98697105e-01]]\n"
     ]
    }
   ],
   "source": [
    "print(theta)"
   ]
  },
  {
   "cell_type": "code",
   "execution_count": 12,
   "metadata": {},
   "outputs": [],
   "source": [
    "X_train = np.concatenate((np.ones((X_train.shape[0],1)), X_train)\n",
    "                          , axis = 1)\n",
    "h = hypothesis(theta, X_train, X_train.shape[1] - 1)\n",
    "# Taking 0.5 as threshold:\n",
    "for i in range(0, h.shape[0]):\n",
    "    if h[i] > 0.5:\n",
    "        h[i] = 1\n",
    "    else:\n",
    "        h[i] = 0"
   ]
  },
  {
   "cell_type": "code",
   "execution_count": 13,
   "metadata": {},
   "outputs": [],
   "source": [
    "k = 0\n",
    "for i in range(0, h.shape[0]):\n",
    "    if h[i] == y_train[i]:\n",
    "        k = k + 1\n",
    "accuracy = k/y_train.shape[0]"
   ]
  },
  {
   "cell_type": "code",
   "execution_count": 14,
   "metadata": {},
   "outputs": [
    {
     "name": "stdout",
     "output_type": "stream",
     "text": [
      "0.09799554565701558\n"
     ]
    }
   ],
   "source": [
    "print(accuracy)"
   ]
  }
 ],
 "metadata": {
  "kernelspec": {
   "display_name": "Python 3",
   "language": "python",
   "name": "python3"
  },
  "language_info": {
   "codemirror_mode": {
    "name": "ipython",
    "version": 3
   },
   "file_extension": ".py",
   "mimetype": "text/x-python",
   "name": "python",
   "nbconvert_exporter": "python",
   "pygments_lexer": "ipython3",
   "version": "3.7.3"
  }
 },
 "nbformat": 4,
 "nbformat_minor": 2
}
