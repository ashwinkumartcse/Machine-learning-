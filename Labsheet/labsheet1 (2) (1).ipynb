{
  "nbformat": 4,
  "nbformat_minor": 0,
  "metadata": {
    "kernelspec": {
      "display_name": "Python 3",
      "language": "python",
      "name": "python3"
    },
    "language_info": {
      "codemirror_mode": {
        "name": "ipython",
        "version": 3
      },
      "file_extension": ".py",
      "mimetype": "text/x-python",
      "name": "python",
      "nbconvert_exporter": "python",
      "pygments_lexer": "ipython3",
      "version": "3.7.3"
    },
    "colab": {
      "name": "19mcb1001_labsheet1 (1).ipynb",
      "provenance": [],
      "collapsed_sections": []
    }
  },
  "cells": [
    {
      "cell_type": "markdown",
      "metadata": {
        "id": "2jvwcfl6EVU_",
        "colab_type": "raw"
      },
      "source": [
        "1). Fit a regression based supervised learning model for a data set and do the required optimization for learning the parameters of your model in the fol- lowing two different ways.\n",
        "\n",
        "a) Optimization through Normal equations Method."
      ]
    },
    {
      "cell_type": "code",
      "metadata": {
        "id": "KqQSOXvmEVVI",
        "colab_type": "code",
        "colab": {}
      },
      "source": [
        "import numpy as np\n",
        "import pandas as pd\n",
        "import matplotlib.pyplot as plt"
      ],
      "execution_count": 0,
      "outputs": []
    },
    {
      "cell_type": "code",
      "metadata": {
        "id": "dMGqeAxuEVVR",
        "colab_type": "code",
        "colab": {}
      },
      "source": [
        "import sklearn.datasets\n",
        "from sklearn.model_selection import train_test_split\n",
        "diabetes = sklearn.datasets.load_diabetes()\n",
        "data = pd.DataFrame(diabetes.data,columns=diabetes.feature_names)\n",
        "data = pd.get_dummies(data,drop_first=True)\n",
        "data['output']=diabetes.target\n",
        "data = data.dropna()\n",
        "X = data.drop('output',axis=1)\n",
        "Y = data['output']\n",
        "x_train,x_test,y_train,y_test = train_test_split(X,Y,test_size=0.15,random_state=1)"
      ],
      "execution_count": 0,
      "outputs": []
    },
    {
      "cell_type": "code",
      "metadata": {
        "id": "8_QxgYa6EVVZ",
        "colab_type": "code",
        "outputId": "4c57b45c-44c5-4def-f687-3c93221260fc",
        "colab": {
          "base_uri": "https://localhost:8080/",
          "height": 119
        }
      },
      "source": [
        "X.head()\n",
        "Y.head()"
      ],
      "execution_count": 0,
      "outputs": [
        {
          "output_type": "execute_result",
          "data": {
            "text/plain": [
              "0    151.0\n",
              "1     75.0\n",
              "2    141.0\n",
              "3    206.0\n",
              "4    135.0\n",
              "Name: output, dtype: float64"
            ]
          },
          "metadata": {
            "tags": []
          },
          "execution_count": 3
        }
      ]
    },
    {
      "cell_type": "code",
      "metadata": {
        "id": "s7HLX0fqEVVj",
        "colab_type": "code",
        "outputId": "ddb08fd2-cc4b-49f5-fe48-deefd19b6848",
        "colab": {
          "base_uri": "https://localhost:8080/",
          "height": 85
        }
      },
      "source": [
        "print(x_train.shape)\n",
        "print(x_test.shape)\n",
        "print(y_train.shape)\n",
        "print(y_test.shape)"
      ],
      "execution_count": 0,
      "outputs": [
        {
          "output_type": "stream",
          "text": [
            "(375, 10)\n",
            "(67, 10)\n",
            "(375,)\n",
            "(67,)\n"
          ],
          "name": "stdout"
        }
      ]
    },
    {
      "cell_type": "code",
      "metadata": {
        "id": "9j4afj-bEVVq",
        "colab_type": "code",
        "colab": {}
      },
      "source": [
        "#x_train['BIAS'] = np.ones((x_train.shape[0],1))\n",
        "X2 = np.array(x_train)\n",
        "Transpose = np.dot(X2.T,X2)\n",
        "Inverse = np.linalg.inv(Transpose)\n",
        "J = np.dot(X2.T,y_train)\n",
        "W = np.dot(Inverse,J)\n"
      ],
      "execution_count": 0,
      "outputs": []
    },
    {
      "cell_type": "code",
      "metadata": {
        "id": "acxNDfsoEVVu",
        "colab_type": "code",
        "outputId": "9929a047-6106-4767-e399-6041cfb9ec7c",
        "colab": {
          "base_uri": "https://localhost:8080/",
          "height": 51
        }
      },
      "source": [
        "print(W)"
      ],
      "execution_count": 0,
      "outputs": [
        {
          "output_type": "stream",
          "text": [
            "[-112.76584175 -269.59528943  636.53315199  288.95624382 -304.93125658\n",
            "    7.56030324   30.67295631  331.40658101  470.92327672  176.62876009]\n"
          ],
          "name": "stdout"
        }
      ]
    },
    {
      "cell_type": "markdown",
      "metadata": {
        "id": "JedDW-7tEVVy",
        "colab_type": "text"
      },
      "source": [
        "b) Optimization through Gradient-descent Method."
      ]
    },
    {
      "cell_type": "code",
      "metadata": {
        "id": "NvIotvUiEVVz",
        "colab_type": "code",
        "outputId": "fef3bb35-dab5-4af5-aa44-25972d7d6ef7",
        "colab": {
          "resources": {
            "http://localhost:8080/nbextensions/google.colab/files.js": {
              "data": "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",
              "ok": true,
              "headers": [
                [
                  "content-type",
                  "application/javascript"
                ]
              ],
              "status": 200,
              "status_text": ""
            }
          },
          "base_uri": "https://localhost:8080/",
          "height": 74
        }
      },
      "source": [
        "import numpy as np\n",
        "import pandas as pd\n",
        "import matplotlib.pyplot as plt\n",
        "from google.colab import files \n",
        "uploaded=files.upload()\n"
      ],
      "execution_count": 0,
      "outputs": [
        {
          "output_type": "display_data",
          "data": {
            "text/html": [
              "\n",
              "     <input type=\"file\" id=\"files-0d016b68-fd61-4820-afcb-637e58c478b2\" name=\"files[]\" multiple disabled />\n",
              "     <output id=\"result-0d016b68-fd61-4820-afcb-637e58c478b2\">\n",
              "      Upload widget is only available when the cell has been executed in the\n",
              "      current browser session. Please rerun this cell to enable.\n",
              "      </output>\n",
              "      <script src=\"/nbextensions/google.colab/files.js\"></script> "
            ],
            "text/plain": [
              "<IPython.core.display.HTML object>"
            ]
          },
          "metadata": {
            "tags": []
          }
        },
        {
          "output_type": "stream",
          "text": [
            "Saving weight-height.csv to weight-height.csv\n"
          ],
          "name": "stdout"
        }
      ]
    },
    {
      "cell_type": "code",
      "metadata": {
        "id": "RP5Uv-qXIech",
        "colab_type": "code",
        "outputId": "86ada87a-d71d-4edf-c732-e0d26ee86e61",
        "colab": {
          "base_uri": "https://localhost:8080/",
          "height": 221
        }
      },
      "source": [
        "data = pd.read_csv(\"weight-height.csv\")\n",
        "print(data.shape)\n",
        "data.head()"
      ],
      "execution_count": 0,
      "outputs": [
        {
          "output_type": "stream",
          "text": [
            "(10000, 3)\n"
          ],
          "name": "stdout"
        },
        {
          "output_type": "execute_result",
          "data": {
            "text/html": [
              "<div>\n",
              "<style scoped>\n",
              "    .dataframe tbody tr th:only-of-type {\n",
              "        vertical-align: middle;\n",
              "    }\n",
              "\n",
              "    .dataframe tbody tr th {\n",
              "        vertical-align: top;\n",
              "    }\n",
              "\n",
              "    .dataframe thead th {\n",
              "        text-align: right;\n",
              "    }\n",
              "</style>\n",
              "<table border=\"1\" class=\"dataframe\">\n",
              "  <thead>\n",
              "    <tr style=\"text-align: right;\">\n",
              "      <th></th>\n",
              "      <th>Gender</th>\n",
              "      <th>Height</th>\n",
              "      <th>Weight</th>\n",
              "    </tr>\n",
              "  </thead>\n",
              "  <tbody>\n",
              "    <tr>\n",
              "      <th>0</th>\n",
              "      <td>Male</td>\n",
              "      <td>73.847017</td>\n",
              "      <td>241.893563</td>\n",
              "    </tr>\n",
              "    <tr>\n",
              "      <th>1</th>\n",
              "      <td>Male</td>\n",
              "      <td>68.781904</td>\n",
              "      <td>162.310473</td>\n",
              "    </tr>\n",
              "    <tr>\n",
              "      <th>2</th>\n",
              "      <td>Male</td>\n",
              "      <td>74.110105</td>\n",
              "      <td>212.740856</td>\n",
              "    </tr>\n",
              "    <tr>\n",
              "      <th>3</th>\n",
              "      <td>Male</td>\n",
              "      <td>71.730978</td>\n",
              "      <td>220.042470</td>\n",
              "    </tr>\n",
              "    <tr>\n",
              "      <th>4</th>\n",
              "      <td>Male</td>\n",
              "      <td>69.881796</td>\n",
              "      <td>206.349801</td>\n",
              "    </tr>\n",
              "  </tbody>\n",
              "</table>\n",
              "</div>"
            ],
            "text/plain": [
              "  Gender     Height      Weight\n",
              "0   Male  73.847017  241.893563\n",
              "1   Male  68.781904  162.310473\n",
              "2   Male  74.110105  212.740856\n",
              "3   Male  71.730978  220.042470\n",
              "4   Male  69.881796  206.349801"
            ]
          },
          "metadata": {
            "tags": []
          },
          "execution_count": 10
        }
      ]
    },
    {
      "cell_type": "code",
      "metadata": {
        "id": "pqrhYEy-EVV2",
        "colab_type": "code",
        "colab": {}
      },
      "source": [
        "Height = data['Height'].values\n",
        "Weight= data['Weight'].values\n",
        "\n"
      ],
      "execution_count": 0,
      "outputs": []
    },
    {
      "cell_type": "code",
      "metadata": {
        "id": "o8Eg9QaKEVV-",
        "colab_type": "code",
        "outputId": "5b6cdf68-33ca-42dc-825e-ac058e4f29c0",
        "colab": {
          "base_uri": "https://localhost:8080/",
          "height": 319
        }
      },
      "source": [
        "from mpl_toolkits.mplot3d import Axes3D\n",
        "fig = plt.figure()\n",
        "ax = Axes3D(fig)\n",
        "ax.scatter(Height,Weight,color='#ef1194')\n",
        "plt.show()"
      ],
      "execution_count": 0,
      "outputs": [
        {
          "output_type": "display_data",
          "data": {
            "image/png": "[encoded data removed]",
            "text/plain": [
              "<Figure size 432x288 with 1 Axes>"
            ]
          },
          "metadata": {
            "tags": []
          }
        }
      ]
    },
    {
      "cell_type": "code",
      "metadata": {
        "id": "-2xnkGyHEVWD",
        "colab_type": "code",
        "colab": {}
      },
      "source": [
        "m = len(Height)\n",
        "x0 = np.ones(m)\n",
        "X = np.array([x0, Height, Weight]).T\n",
        "# Initial Coefficients\n",
        "W = np.array([0, 0, 0])\n",
        "Y = np.array(Weight)\n",
        "alpha = 0.0001"
      ],
      "execution_count": 0,
      "outputs": []
    },
    {
      "cell_type": "code",
      "metadata": {
        "id": "GzQ36N-2EVWH",
        "colab_type": "code",
        "outputId": "8014c4bf-0fe2-42b9-dfd6-160b0d0ea7f7",
        "colab": {
          "base_uri": "https://localhost:8080/",
          "height": 51
        }
      },
      "source": [
        "def cost_function(X, Y, W):\n",
        "    m = len(Y)\n",
        "    J = np.sum((X.dot(W) - Y) ** 2)/(2 * m)\n",
        "    return J\n",
        "inital_cost = cost_function(X, Y, W)\n",
        "print(inital_cost)\n",
        "def gradient_descent(X, Y, W, alpha, iterations):\n",
        "    old_cost = [0] * iterations\n",
        "    m = len(Y)\n",
        "    \n",
        "    for iteration in range(iterations):\n",
        "        h = X.dot(W)\n",
        "        loss = h - Y\n",
        "        gradient = X.T.dot(loss) / m\n",
        "        W = W - alpha * gradient\n",
        "        # New Cost Value\n",
        "        cost = cost_function(X, Y, W)\n",
        "        old_cost[iteration] = cost\n",
        "        \n",
        "    return W, old_cost\n",
        "new_W, old_cost = gradient_descent(X, Y, W, alpha, 10)\n",
        "print(new_W)\n",
        "#print(old_cost)\n"
      ],
      "execution_count": 0,
      "outputs": [
        {
          "output_type": "stream",
          "text": [
            "13546.918787280785\n",
            "[  -10.54982977  -706.89717598 -1763.46636538]\n"
          ],
          "name": "stdout"
        }
      ]
    },
    {
      "cell_type": "markdown",
      "metadata": {
        "id": "sWYdBxp5EVWK",
        "colab_type": "text"
      },
      "source": [
        "2.Without using any library function, Implement a linear regression model which optimizes the parameters through the method of normal equations."
      ]
    },
    {
      "cell_type": "code",
      "metadata": {
        "id": "ZscWzbQREVWL",
        "colab_type": "code",
        "colab": {}
      },
      "source": [
        "X2 = np.array(x_train)\n",
        "Transpose = np.dot(X2.T,X2)\n",
        "Inverse = np.linalg.inv(Transpose)\n",
        "J = np.dot(X2.T,y_train)\n",
        "W = np.dot(Inverse,J)"
      ],
      "execution_count": 0,
      "outputs": []
    },
    {
      "cell_type": "code",
      "metadata": {
        "id": "3X3dWEQrEVWO",
        "colab_type": "code",
        "outputId": "82500f60-2682-4abb-a8bb-995f61b799bb",
        "colab": {
          "base_uri": "https://localhost:8080/",
          "height": 51
        }
      },
      "source": [
        "print(W)"
      ],
      "execution_count": 0,
      "outputs": [
        {
          "output_type": "stream",
          "text": [
            "[-112.76584175 -269.59528943  636.53315199  288.95624382 -304.93125658\n",
            "    7.56030324   30.67295631  331.40658101  470.92327672  176.62876009]\n"
          ],
          "name": "stdout"
        }
      ]
    },
    {
      "cell_type": "markdown",
      "metadata": {
        "id": "Fy3xXIOAEVWR",
        "colab_type": "text"
      },
      "source": [
        "3). 'Size of the data used to train a linear regression model is directly propor- tional to the performance of the model’. Take a data set with different sizes, and do a minimum of 10 experiments and produce a scatter-plot (size of the data Vs Performance of the model) and comment on the above statement, based on your experiment."
      ]
    },
    {
      "cell_type": "code",
      "metadata": {
        "id": "XPkGVXd7EVWS",
        "colab_type": "code",
        "colab": {}
      },
      "source": [
        "m = len(Height)\n",
        "x0 = np.ones(m)\n",
        "X = np.array([x0, Height, Weight]).T\n",
        "# Initial Coefficients\n",
        "W = np.array([0, 0, 0])\n",
        "Y = np.array(Height)\n",
        "alpha = 0.01"
      ],
      "execution_count": 0,
      "outputs": []
    },
    {
      "cell_type": "code",
      "metadata": {
        "id": "ylrIO83uEVWV",
        "colab_type": "code",
        "outputId": "1c155977-3695-47bb-9a0b-4faaacde46c8",
        "colab": {
          "base_uri": "https://localhost:8080/",
          "height": 51
        }
      },
      "source": [
        "def cost_function(X, Y, W):\n",
        "    m = len(Y)\n",
        "    J = np.sum((X.dot(W) - Y) ** 2)/(2 * m)\n",
        "    return J\n",
        "inital_cost = cost_function(X, Y, W)\n",
        "print(inital_cost)\n",
        "def gradient_descent(X, Y, W, alpha, iterations):\n",
        "    old_cost = [0] * iterations\n",
        "    m = len(Y)\n",
        "    \n",
        "    for iteration in range(iterations):\n",
        "        h = X.dot(W)\n",
        "        loss = h - Y\n",
        "        gradient = X.T.dot(loss) / m\n",
        "        W = W - alpha * gradient\n",
        "        # New Cost Value\n",
        "        cost = cost_function(X, Y, W)\n",
        "        old_cost[iteration] = cost\n",
        "        \n",
        "    return W, old_cost\n",
        "new_W, old_cost = gradient_descent(X, Y, W, alpha, 10)\n",
        "print(new_W)\n",
        "#print(old_cost)\n"
      ],
      "execution_count": 0,
      "outputs": [
        {
          "output_type": "stream",
          "text": [
            "2209.727490051323\n",
            "[-1.88558081e+22 -1.26346294e+24 -3.15204353e+24]\n"
          ],
          "name": "stdout"
        }
      ]
    },
    {
      "cell_type": "code",
      "metadata": {
        "id": "qZhz9MN3EVWY",
        "colab_type": "code",
        "outputId": "d33a3fd6-2b29-4fbc-ea9c-d523a35b73cc",
        "colab": {
          "base_uri": "https://localhost:8080/",
          "height": 282
        }
      },
      "source": [
        "plt.scatter(Height,Weight)"
      ],
      "execution_count": 0,
      "outputs": [
        {
          "output_type": "execute_result",
          "data": {
            "text/plain": [
              "<matplotlib.collections.PathCollection at 0x7fa0e7650a20>"
            ]
          },
          "metadata": {
            "tags": []
          },
          "execution_count": 20
        },
        {
          "output_type": "display_data",
          "data": {
            "image/png": "[encoded data removed]",
            "text/plain": [
              "<Figure size 432x288 with 1 Axes>"
            ]
          },
          "metadata": {
            "tags": []
          }
        }
      ]
    },
    {
      "cell_type": "markdown",
      "metadata": {
        "id": "woUrTfvWEVWb",
        "colab_type": "text"
      },
      "source": [
        "4).Do a minimum of 50 experiments with the same data set for the linear re- gression model, by varying the learning rate (α) and compute the minimum number of iterations (ni) required for the convergence of the parameters involved in the learning model. With the data generated by through your experiments (learning rate, Minimum number of iterations for the conver- gence), Fit a learning model for that data to bring out the relationship between α and ‘ni’, in two different ways, first by taking α as the indepen- dent variable and then by taking ni as the independent variable an conclude whether the two models remain the same or not."
      ]
    },
    {
      "cell_type": "code",
      "metadata": {
        "id": "c7yQo2dvEVWc",
        "colab_type": "code",
        "colab": {}
      },
      "source": [
        "a = 2 * np.random.rand(100,1)\n",
        "b = 4 +3 * a+np.random.randn(100,1)"
      ],
      "execution_count": 0,
      "outputs": []
    },
    {
      "cell_type": "code",
      "metadata": {
        "id": "7LS5SdEJEVWf",
        "colab_type": "code",
        "outputId": "1a24430f-603a-4a46-fea8-b2605b26f3c9",
        "colab": {
          "base_uri": "https://localhost:8080/",
          "height": 51
        }
      },
      "source": [
        "a_b = np.c_[np.ones((100,1)),a]\n",
        "theta_best = np.linalg.inv(a_b.T.dot(a_b)).dot(a_b.T).dot(b)\n",
        "print(theta_best)"
      ],
      "execution_count": 0,
      "outputs": [
        {
          "output_type": "stream",
          "text": [
            "[[3.60011376]\n",
            " [3.1628249 ]]\n"
          ],
          "name": "stdout"
        }
      ]
    },
    {
      "cell_type": "code",
      "metadata": {
        "id": "13LSUDDPEVWh",
        "colab_type": "code",
        "outputId": "82e5cd49-7689-4551-cefe-cad51e256d24",
        "colab": {
          "base_uri": "https://localhost:8080/",
          "height": 51
        }
      },
      "source": [
        "a_new = np.array([[0],[2]])\n",
        "a_new_b = np.c_[np.ones((2,1)),a_new]\n",
        "b_predict = a_new_b.dot(theta_best)\n",
        "b_predict"
      ],
      "execution_count": 0,
      "outputs": [
        {
          "output_type": "execute_result",
          "data": {
            "text/plain": [
              "array([[3.60011376],\n",
              "       [9.92576355]])"
            ]
          },
          "metadata": {
            "tags": []
          },
          "execution_count": 23
        }
      ]
    },
    {
      "cell_type": "code",
      "metadata": {
        "id": "dfX3-2YUEVWk",
        "colab_type": "code",
        "colab": {}
      },
      "source": [
        "def cost_function(theta,a,b):\n",
        "    m=len(b)\n",
        "    predicted=a.dot(theta)\n",
        "    cost=(1/2*m)*np.sum(np.square(predicted-b))\n",
        "    return cost"
      ],
      "execution_count": 0,
      "outputs": []
    },
    {
      "cell_type": "code",
      "metadata": {
        "id": "HuktT4jMEVWn",
        "colab_type": "code",
        "outputId": "ed2a480c-f8cb-43f1-b32c-ed7de28e7f42",
        "colab": {
          "base_uri": "https://localhost:8080/",
          "height": 282
        }
      },
      "source": [
        "plt.scatter(a,b)"
      ],
      "execution_count": 0,
      "outputs": [
        {
          "output_type": "execute_result",
          "data": {
            "text/plain": [
              "<matplotlib.collections.PathCollection at 0x7fa0e7642908>"
            ]
          },
          "metadata": {
            "tags": []
          },
          "execution_count": 25
        },
        {
          "output_type": "display_data",
          "data": {
            "image/png": "[encoded data removed]",
            "text/plain": [
              "<Figure size 432x288 with 1 Axes>"
            ]
          },
          "metadata": {
            "tags": []
          }
        }
      ]
    },
    {
      "cell_type": "code",
      "metadata": {
        "id": "eNpCU0LyEVWr",
        "colab_type": "code",
        "colab": {}
      },
      "source": [
        "gd = GradDesc()\n",
        "X1 = np.array(train_x)\n",
        "Y1 = np.array(train_y)\n",
        "gd.fit(X=X1,Y=Y1,epochs=3000,learning_rate=0.0001)\n",
        "\n",
        "for i in range(50):\n",
        "  epochs = 200 + i*50\n",
        "  gd.fit(X=X1,Y=Y1,epochs=epochs,learning_rate=0.000001)\n",
        "\n",
        "for i in range(50):\n",
        "  learning_rate = 0.001/(i+1)\n",
        "  gd.fit(X=X1,Y=Y1,epochs=5000,learning_rate=learning_rate)\n",
        "\n",
        "for i in range(50):\n",
        "  epochs = 9000 + i*800\n",
        "  learning_rate = 0.000000001/(i+1)\n",
        "  gd.fit(X=X1,Y=Y1,epochs=epochs,learning_rate=learning_rate)"
      ],
      "execution_count": 0,
      "outputs": []
    },
    {
      "cell_type": "code",
      "metadata": {
        "id": "8fjpgCe7EVWu",
        "colab_type": "code",
        "colab": {}
      },
      "source": [
        "alpha =0.01\n",
        "epoch = 1000\n",
        "\n",
        "theta = np.random.randn(2,1)\n",
        "\n",
        "a_b = np.c_[np.ones((len(a),1)),a]\n",
        "theta,cost_history,theta_history = gradient_desc(a_b,b,theta,alpha,epoch)\n",
        "\n",
        "\n",
        "print('Theta0:          {:0.3f},\\nTheta1:          {:0.3f}'.format(theta[0][0],theta[1][0]))\n",
        "print('Final cost/MSE:  {:0.3f}'.format(cost_history[-1]))"
      ],
      "execution_count": 0,
      "outputs": []
    },
    {
      "cell_type": "code",
      "metadata": {
        "id": "jFLXMV1gEVWx",
        "colab_type": "code",
        "colab": {}
      },
      "source": [
        "ig,ax = plt.subplots(figsize=(12,8))\n",
        "\n",
        "ax.set_ylabel('J(Theta)')\n",
        "ax.set_xlabel('Iterations')\n",
        "_=ax.plot(range(epoch),cost_history,'b.')"
      ],
      "execution_count": 0,
      "outputs": []
    },
    {
      "cell_type": "markdown",
      "metadata": {
        "id": "9cR7FQBMEVW0",
        "colab_type": "text"
      },
      "source": [
        "5).Takeadataset.Fitalinearregression modelwith three different hypothesis\n",
        "that involves differentdegreesofpolynomialsofthecomponentsoftheinput\n",
        "vector.Conclude which \fts the given data set best.\n"
      ]
    },
    {
      "cell_type": "code",
      "metadata": {
        "id": "VQVTKStSEVW1",
        "colab_type": "code",
        "colab": {}
      },
      "source": [
        "#Power of 2\n",
        "\n",
        "class GradientDesc:\n",
        "  def __init__(self):\n",
        "    self.w = None\n",
        "    self.b = None\n",
        "\n",
        "  def perceptron(self,x):\n",
        "    w1 = self.w**2\n",
        "    return np.dot(x,w1.T) + self.b\n",
        "\n",
        "  def grad_w(self,x,y):\n",
        "    y_pred = self.perceptron(x)\n",
        "    return 2*(y_pred - y)*x*self.w\n",
        "\n",
        "  def grad_b(self,x,y):\n",
        "    y_pred = self.perceptron(x)\n",
        "    return (y_pred - y)\n",
        "\n",
        "  def fit(self,X,Y,epochs=1,learning_rate=1,initialise=True,display_loss=True):\n",
        "\n",
        "    if initialise:\n",
        "      self.w  = np.ones((1,X.shape[1]))\n",
        "      self.b = 0\n",
        "\n",
        "    if display_loss:\n",
        "      loss={}\n",
        "    m = X.shape[0]\n",
        "    for i in tqdm_notebook(range(epochs),total=epochs,unit=\"epoch\"):\n",
        "      dw = 0\n",
        "      db = 0\n",
        "      for x,y in zip(X,Y):\n",
        "        dw += self.grad_w(x,y)\n",
        "        db += self.grad_b(x,y)\n",
        "      self.w -= (learning_rate*dw)/m\n",
        "      self.b -= (learning_rate*db)/m\n",
        "      if display_loss:\n",
        "        Y_pred = self.perceptron(X)\n",
        "        error = mean_squared_error(Y_pred,Y)\n",
        "        loss[i]= error\n",
        "    \n",
        "    if display_loss:\n",
        "      plt.plot(list(loss.values()))\n",
        "      plt.xlabel('Epochs')\n",
        "      plt.ylabel('Mean Squared Error')\n",
        "      plt.show()\n",
        "      print(\"Updated weights: \",self.w)\n",
        "      print(\"Updated bias: \",self.b)\n",
        "    return error\n",
        "  def predict(self,X):\n",
        "    Y_pred = []\n",
        "    for x in X:\n",
        "      y_pred = self.perceptron(x)\n",
        "      Y_pred.append(y_pred)\n",
        "    return np.array(Y_pred)  "
      ],
      "execution_count": 0,
      "outputs": []
    },
    {
      "cell_type": "code",
      "metadata": {
        "id": "on6flCpfEVW5",
        "colab_type": "code",
        "colab": {}
      },
      "source": [
        "G = GradientDesc()\n",
        "X1 = np.array(train_x)\n",
        "Y1 = np.array(train_y)\n",
        "G.fit(X=X1,Y=Y1,epochs=500,learning_rate=0.01)"
      ],
      "execution_count": 0,
      "outputs": []
    },
    {
      "cell_type": "code",
      "metadata": {
        "id": "92gWpECvEVW8",
        "colab_type": "code",
        "colab": {}
      },
      "source": [
        "# Power of 3\n",
        "class GradientDescent1:\n",
        "  def __init__(self):\n",
        "    self.w = None\n",
        "    self.b = None\n",
        "\n",
        "  def perceptron(self,x):\n",
        "    w1 = self.w**3\n",
        "    return np.dot(x,w1.T) + self.b\n",
        "\n",
        "  def grad_w(self,x,y):\n",
        "    y_pred = self.perceptron(x)\n",
        "    return 3*(y_pred - y)*x*(self.w**2)\n",
        "\n",
        "  def grad_b(self,x,y):\n",
        "    y_pred = self.perceptron(x)\n",
        "    return (y_pred - y)\n",
        "\n",
        "  def fit(self,X,Y,epochs=1,learning_rate=1,initialise=True,display_loss=True):\n",
        "\n",
        "    if initialise:\n",
        "      self.w  = np.ones((1,X.shape[1]))\n",
        "      self.b = 0\n",
        "\n",
        "    if display_loss:\n",
        "      loss={}\n",
        "    m = X.shape[0]\n",
        "    for i in tqdm_notebook(range(epochs),total=epochs,unit=\"epoch\"):\n",
        "      dw = 0\n",
        "      db = 0\n",
        "      for x,y in zip(X,Y):\n",
        "        dw += self.grad_w(x,y)\n",
        "        db += self.grad_b(x,y)\n",
        "      self.w -= (learning_rate*dw)/m\n",
        "      self.b -= (learning_rate*db)/m\n",
        "      if display_loss:\n",
        "        Y_pred = self.perceptron(X)\n",
        "        error = mean_squared_error(Y_pred,Y)\n",
        "        loss[i]= error\n",
        "    \n",
        "    if display_loss:\n",
        "      plt.plot(list(loss.values()))\n",
        "      plt.xlabel('Epochs')\n",
        "      plt.ylabel('Mean Squared Error')\n",
        "      plt.show()\n",
        "      print(\"Updated weights: \",self.w)\n",
        "      print(\"Updated bias: \",self.b)\n",
        "    return error\n",
        "  def predict(self,X):\n",
        "    Y_pred = []\n",
        "    for x in X:\n",
        "      y_pred = self.perceptron(x)\n",
        "      Y_pred.append(y_pred)\n",
        "    return np.array(Y_pred)  "
      ],
      "execution_count": 0,
      "outputs": []
    },
    {
      "cell_type": "code",
      "metadata": {
        "id": "-bTVkZrCEVW_",
        "colab_type": "code",
        "colab": {}
      },
      "source": [
        "G = GradientDescent1()\n",
        "X1 = np.array(x_train)\n",
        "Y1 = np.array(y_train)\n",
        "G.fit(X=X1,Y=Y1,epochs=5000,learning_rate=0.000001)"
      ],
      "execution_count": 0,
      "outputs": []
    },
    {
      "cell_type": "markdown",
      "metadata": {
        "id": "DDqXUK_jEVXC",
        "colab_type": "text"
      },
      "source": [
        "6.Take a data set, fit a non-linear model and a linear model for the same data. Based on your observations, conclude which model suits best for the chosen data set."
      ]
    },
    {
      "cell_type": "code",
      "metadata": {
        "id": "oFPO5FtqEVXD",
        "colab_type": "code",
        "colab": {}
      },
      "source": [
        "class GradientDescent2:\n",
        "  def __init__(self):\n",
        "    self.w = None\n",
        "    self.b = None\n",
        "\n",
        "  def perceptron(self,x):\n",
        "    return np.dot(x**2,self.w.T) + self.b\n",
        "\n",
        "  def grad_w(self,x,y):\n",
        "    y_pred = self.perceptron(x)\n",
        "    return (y_pred - y)*(x**2)\n",
        "\n",
        "  def grad_b(self,x,y):\n",
        "    y_pred = self.perceptron(x)\n",
        "    return (y_pred - y)\n",
        "\n",
        "  def fit(self,X,Y,epochs=1,learning_rate=1,initialise=True,display_loss=True):\n",
        "\n",
        "    if initialise:\n",
        "      self.w  = np.ones((1,X.shape[1]))\n",
        "      self.b = 0\n",
        "\n",
        "    if display_loss:\n",
        "      loss={}\n",
        "    m = X.shape[0]\n",
        "    for i in tqdm_notebook(range(epochs),total=epochs,unit=\"epoch\"):\n",
        "      dw = 0\n",
        "      db = 0\n",
        "      for x,y in zip(X,Y):\n",
        "        dw += self.grad_w(x,y)\n",
        "        db += self.grad_b(x,y)\n",
        "      self.w -= (learning_rate*dw)/m\n",
        "      self.b -= (learning_rate*db)/m\n",
        "      if display_loss:\n",
        "        Y_pred = self.perceptron(X)\n",
        "        error = mean_squared_error(Y_pred,Y)\n",
        "        loss[i]= error\n",
        "    \n",
        "    if display_loss:\n",
        "      plt.plot(list(loss.values()))\n",
        "      plt.xlabel('Epochs')\n",
        "      plt.ylabel('Mean Squared Error')\n",
        "      plt.show()\n",
        "      print(\"Updated weights: \",self.w)\n",
        "      print(\"Updated bias: \",self.b)\n",
        "    return error\n",
        "  def predict(self,X):\n",
        "    Y_pred = []\n",
        "    for x in X:\n",
        "      y_pred = self.perceptron(x)\n",
        "      Y_pred.append(y_pred)\n",
        "    return np.array(Y_pred)  "
      ],
      "execution_count": 0,
      "outputs": []
    },
    {
      "cell_type": "code",
      "metadata": {
        "id": "Ien3t96TEVXF",
        "colab_type": "code",
        "colab": {}
      },
      "source": [
        "G = GradientDescent2()\n",
        "X1 = np.array(train_x)\n",
        "Y1 = np.array(train_y)\n",
        "G.fit(X=X1,Y=Y1,epochs=1000,learning_rate=0.00000000001)"
      ],
      "execution_count": 0,
      "outputs": []
    },
    {
      "cell_type": "code",
      "metadata": {
        "id": "Cp17rULIEVXJ",
        "colab_type": "code",
        "colab": {}
      },
      "source": [
        ""
      ],
      "execution_count": 0,
      "outputs": []
    },
    {
      "cell_type": "code",
      "metadata": {
        "id": "EU6n7m1xEVXL",
        "colab_type": "code",
        "colab": {}
      },
      "source": [
        ""
      ],
      "execution_count": 0,
      "outputs": []
    }
  ]
}